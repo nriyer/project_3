{
 "cells": [
  {
   "cell_type": "code",
   "execution_count": null,
   "metadata": {
    "collapsed": false
   },
   "outputs": [],
   "source": [
    "library(igraph)"
   ]
  },
  {
   "cell_type": "code",
   "execution_count": null,
   "metadata": {
    "collapsed": true
   },
   "outputs": [],
   "source": [
    "g <- graph( c(1,2, 1,3, 2,3, 3,5), n=5 )"
   ]
  },
  {
   "cell_type": "code",
   "execution_count": null,
   "metadata": {
    "collapsed": false
   },
   "outputs": [],
   "source": [
    "#verticies\n",
    "V(g)"
   ]
  },
  {
   "cell_type": "code",
   "execution_count": null,
   "metadata": {
    "collapsed": false
   },
   "outputs": [],
   "source": [
    "#edges\n",
    "E(g)"
   ]
  },
  {
   "cell_type": "code",
   "execution_count": null,
   "metadata": {
    "collapsed": false
   },
   "outputs": [],
   "source": [
    "g <- graph.empty() + vertices(letters[1:10], color=\"red\")\n",
    "g <- g + vertices(letters[11:20], color=\"blue\")\n",
    "g <- g + edges(sample(V(g), 30, replace=TRUE), color=\"green\")\n",
    "V(g)"
   ]
  },
  {
   "cell_type": "code",
   "execution_count": null,
   "metadata": {
    "collapsed": false
   },
   "outputs": [],
   "source": [
    "E(g)"
   ]
  },
  {
   "cell_type": "markdown",
   "metadata": {},
   "source": [
    "#### Load text file 'graph.txt'  and read it in\n",
    "text file is:\n",
    "0 1\n",
    "1 2\n",
    "2 3"
   ]
  },
  {
   "cell_type": "code",
   "execution_count": null,
   "metadata": {
    "collapsed": false
   },
   "outputs": [],
   "source": [
    "g <- read.graph(\"graph.txt\", format=\"edgelist\")\n",
    "#verticies\n",
    "V(g)"
   ]
  },
  {
   "cell_type": "code",
   "execution_count": null,
   "metadata": {
    "collapsed": false
   },
   "outputs": [],
   "source": [
    "#edges\n",
    "E(g)"
   ]
  },
  {
   "cell_type": "code",
   "execution_count": null,
   "metadata": {
    "collapsed": true
   },
   "outputs": [],
   "source": [
    "karate <- read.graph(\"http://cneurocvs.rmki.kfki.hu/igraph/karate.net\", format=\"pajek\")"
   ]
  },
  {
   "cell_type": "code",
   "execution_count": null,
   "metadata": {
    "collapsed": false
   },
   "outputs": [],
   "source": [
    "summary(karate)"
   ]
  },
  {
   "cell_type": "code",
   "execution_count": null,
   "metadata": {
    "collapsed": true
   },
   "outputs": [],
   "source": [
    "#the Ed¨os-R´enyi model (ER)\n",
    "er_graph <- erdos.renyi.game(100, 2/100)"
   ]
  },
  {
   "cell_type": "code",
   "execution_count": null,
   "metadata": {
    "collapsed": true
   },
   "outputs": [],
   "source": [
    "#the BarabasiAlbert model (BA)\n",
    "ba_graph <- barabasi.game(100)"
   ]
  },
  {
   "cell_type": "code",
   "execution_count": null,
   "metadata": {
    "collapsed": true
   },
   "outputs": [],
   "source": [
    "#Watts-Strogratz model (WS)\n",
    "ws_graph <- watts.strogatz.game(1, 100, 4, 0.05)"
   ]
  },
  {
   "cell_type": "markdown",
   "metadata": {},
   "source": [
    "#### Manipulating attributes in graphs"
   ]
  },
  {
   "cell_type": "code",
   "execution_count": null,
   "metadata": {
    "collapsed": true
   },
   "outputs": [],
   "source": [
    "g <- erdos.renyi.game(10, 0.5)\n",
    "V(g)$color <- sample( c(\"red\", \"black\"), vcount(g), rep=TRUE)\n",
    "E(g)$color <- \"grey\"\n",
    "red <- V(g)[ color == \"red\" ]\n",
    "bl <- V(g)[ color == \"black\" ]\n",
    "E(g)[ red %--% red ]$color <- \"red\"\n",
    "E(g)[ bl %--% bl ]$color <- \"black\""
   ]
  },
  {
   "cell_type": "code",
   "execution_count": null,
   "metadata": {
    "collapsed": false
   },
   "outputs": [],
   "source": [
    "red\n",
    "bl"
   ]
  },
  {
   "cell_type": "markdown",
   "metadata": {},
   "source": [
    "#### Visualizing graphs"
   ]
  },
  {
   "cell_type": "code",
   "execution_count": null,
   "metadata": {
    "collapsed": false
   },
   "outputs": [],
   "source": [
    "er_graph <- erdos.renyi.game(100, 2/100)\n",
    "plot(er_graph, vertex.label=NA, vertex.size=3)\n",
    "ws_graph <- watts.strogatz.game(1, 100, 4, 0.05)\n",
    "plot(ws_graph, layout=layout.circle, vertex.label=NA, vertex.size=3)\n",
    "ba_graph <- barabasi.game(100)\n",
    "plot(ba_graph, vertex.label=NA, vertex.size=3)"
   ]
  },
  {
   "cell_type": "markdown",
   "metadata": {},
   "source": [
    "There are many measures that help us understand and characterize networks.\n",
    "We have seen three in class already: diameter (and average path length), clustering\n",
    "coefficient (or transitivity), and degree distribution. igraph provides\n",
    "functions that compute these measures for you. The functions are: diameter,\n",
    "transitivity, average.path.length, degree, and degree.distribution. The\n",
    "examples below illustrate the usage of these functions."
   ]
  },
  {
   "cell_type": "code",
   "execution_count": null,
   "metadata": {
    "collapsed": true
   },
   "outputs": [],
   "source": []
  }
 ],
 "metadata": {
  "kernelspec": {
   "display_name": "R",
   "language": "R",
   "name": "ir"
  },
  "language_info": {
   "codemirror_mode": "r",
   "file_extension": ".r",
   "mimetype": "text/x-r-source",
   "name": "R",
   "pygments_lexer": "r",
   "version": "3.2.3"
  }
 },
 "nbformat": 4,
 "nbformat_minor": 0
}
