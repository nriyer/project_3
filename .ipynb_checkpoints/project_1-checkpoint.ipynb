{
 "cells": [
  {
   "cell_type": "code",
   "execution_count": 57,
   "metadata": {
    "collapsed": false
   },
   "outputs": [
    {
     "name": "stderr",
     "output_type": "stream",
     "text": [
      "Warning message:\n",
      "In readChar(con, 5L, useBytes = TRUE): cannot open compressed file 'football', probable reason 'No such file or directory'"
     ]
    },
    {
     "ename": "ERROR",
     "evalue": "Error in readChar(con, 5L, useBytes = TRUE): cannot open the connection\n",
     "output_type": "error",
     "traceback": [
      "Error in readChar(con, 5L, useBytes = TRUE): cannot open the connection\n"
     ]
    },
    {
     "name": "stdout",
     "output_type": "stream",
     "text": [
      "IGRAPH UNW- 16706 121251 -- Astrophysics collaborations\n",
      "+ attr: name (g/c), Author (g/c), Citation (g/c), URL (g/c),\n",
      "| Description (g/c), name (v/c), weight (e/n)\n"
     ]
    }
   ],
   "source": [
    "library(igraph)\n",
    "load(\"~/Downloads/astrocollab.Rdata\")\n",
    "load(\"football\")\n",
    "summary(astrocollab)"
   ]
  },
  {
   "cell_type": "code",
   "execution_count": 7,
   "metadata": {
    "collapsed": false
   },
   "outputs": [],
   "source": [
    "#sample igraph and return graph object to experiment on the file\n",
    "g <- simplify(astrocollab)"
   ]
  },
  {
   "cell_type": "code",
   "execution_count": 8,
   "metadata": {
    "collapsed": false
   },
   "outputs": [
    {
     "data": {
      "text/html": [
       "'list'"
      ],
      "text/latex": [
       "'list'"
      ],
      "text/markdown": [
       "'list'"
      ],
      "text/plain": [
       "[1] \"list\""
      ]
     },
     "execution_count": 8,
     "metadata": {},
     "output_type": "execute_result"
    }
   ],
   "source": [
    "typeof(g)"
   ]
  },
  {
   "cell_type": "code",
   "execution_count": 36,
   "metadata": {
    "collapsed": false
   },
   "outputs": [
    {
     "data": {
      "text/html": [
       "'dgCMatrix'"
      ],
      "text/latex": [
       "'dgCMatrix'"
      ],
      "text/markdown": [
       "'dgCMatrix'"
      ],
      "text/plain": [
       "[1] \"dgCMatrix\"\n",
       "attr(,\"package\")\n",
       "[1] \"Matrix\""
      ]
     },
     "execution_count": 36,
     "metadata": {},
     "output_type": "execute_result"
    }
   ],
   "source": [
    "obj <- sample(g)\n",
    "class(obj)"
   ]
  },
  {
   "cell_type": "markdown",
   "metadata": {},
   "source": [
    "### Ok, we need to convert the sample from a dgCMatrix back to an igraph:"
   ]
  },
  {
   "cell_type": "code",
   "execution_count": 37,
   "metadata": {
    "collapsed": false
   },
   "outputs": [],
   "source": [
    "## node info\n",
    "nodes <- data.frame(name=rownames(obj))\n",
    "nodenames <- rownames(obj)"
   ]
  },
  {
   "cell_type": "code",
   "execution_count": 38,
   "metadata": {
    "collapsed": true
   },
   "outputs": [],
   "source": [
    " ## adjacency matrix\n",
    "adjM <- obj\n",
    "tmp <- which(as.matrix(adjM!=0), arr.ind=T)"
   ]
  },
  {
   "cell_type": "code",
   "execution_count": 41,
   "metadata": {
    "collapsed": false
   },
   "outputs": [],
   "source": [
    "#undirect graph\n",
    "tmp <- tmp[tmp[,1]<tmp[,2],]\n"
   ]
  },
  {
   "cell_type": "code",
   "execution_count": 45,
   "metadata": {
    "collapsed": false
   },
   "outputs": [],
   "source": [
    "#define that there is no weight flag (look at function for more detail)\n",
    "weight_flag <- F"
   ]
  },
  {
   "cell_type": "code",
   "execution_count": 51,
   "metadata": {
    "collapsed": false
   },
   "outputs": [],
   "source": [
    "relations <- data.frame(from=nodenames[tmp[,1]], to=nodenames[tmp[,2]])\n",
    "relations <- na.omit(relations)"
   ]
  },
  {
   "cell_type": "code",
   "execution_count": 52,
   "metadata": {
    "collapsed": false
   },
   "outputs": [
    {
     "data": {
      "text/html": [
       "<table>\n",
       "<thead><tr><th></th><th scope=col>from</th><th scope=col>to</th></tr></thead>\n",
       "<tbody>\n",
       "\t<tr><th scope=row>1</th><td>PILDIS, RA</td><td>GOLDMAN, I</td></tr>\n",
       "\t<tr><th scope=row>2</th><td>PILDIS, RA</td><td>BREGMAN, JN</td></tr>\n",
       "\t<tr><th scope=row>3</th><td>HARKNESS, RP</td><td>WANDEL, A</td></tr>\n",
       "\t<tr><th scope=row>4</th><td>SUTHERLAND, PG</td><td>WANDEL, A</td></tr>\n",
       "\t<tr><th scope=row>5</th><td>SWARTZ, DA</td><td>BIERMANN, PL</td></tr>\n",
       "\t<tr><th scope=row>6</th><td>HARKNESS, RP</td><td>BIERMANN, PL</td></tr>\n",
       "\t<tr><th scope=row>7</th><td>SWARTZ, DA</td><td>EVRARD, AE</td></tr>\n",
       "\t<tr><th scope=row>8</th><td>SUTHERLAND, PG</td><td>EVRARD, AE</td></tr>\n",
       "</tbody>\n",
       "</table>\n"
      ],
      "text/latex": [
       "\\begin{tabular}{r|ll}\n",
       "  & from & to\\\\\n",
       "\\hline\n",
       "\t1 & PILDIS, RA & GOLDMAN, I\\\\\n",
       "\t2 & PILDIS, RA & BREGMAN, JN\\\\\n",
       "\t3 & HARKNESS, RP & WANDEL, A\\\\\n",
       "\t4 & SUTHERLAND, PG & WANDEL, A\\\\\n",
       "\t5 & SWARTZ, DA & BIERMANN, PL\\\\\n",
       "\t6 & HARKNESS, RP & BIERMANN, PL\\\\\n",
       "\t7 & SWARTZ, DA & EVRARD, AE\\\\\n",
       "\t8 & SUTHERLAND, PG & EVRARD, AE\\\\\n",
       "\\end{tabular}\n"
      ],
      "text/plain": [
       "            from           to\n",
       "1     PILDIS, RA   GOLDMAN, I\n",
       "2     PILDIS, RA  BREGMAN, JN\n",
       "3   HARKNESS, RP    WANDEL, A\n",
       "4 SUTHERLAND, PG    WANDEL, A\n",
       "5     SWARTZ, DA BIERMANN, PL\n",
       "6   HARKNESS, RP BIERMANN, PL\n",
       "7     SWARTZ, DA   EVRARD, AE\n",
       "8 SUTHERLAND, PG   EVRARD, AE"
      ]
     },
     "execution_count": 52,
     "metadata": {},
     "output_type": "execute_result"
    }
   ],
   "source": [
    "relations"
   ]
  },
  {
   "cell_type": "code",
   "execution_count": 54,
   "metadata": {
    "collapsed": false
   },
   "outputs": [],
   "source": [
    "objConverted <- igraph::graph.data.frame(d=relations, directed=F, vertices=nodes)"
   ]
  },
  {
   "cell_type": "code",
   "execution_count": 55,
   "metadata": {
    "collapsed": false
   },
   "outputs": [
    {
     "data": {
      "text/plain": [
       "IGRAPH UN-- 10 8 -- \n",
       "+ attr: name (v/c)\n",
       "+ edges (vertex names):\n",
       "[1] PILDIS, RA    --GOLDMAN, I   PILDIS, RA    --BREGMAN, JN \n",
       "[3] HARKNESS, RP  --WANDEL, A    SUTHERLAND, PG--WANDEL, A   \n",
       "[5] SWARTZ, DA    --BIERMANN, PL HARKNESS, RP  --BIERMANN, PL\n",
       "[7] SWARTZ, DA    --EVRARD, AE   SUTHERLAND, PG--EVRARD, AE  "
      ]
     },
     "execution_count": 55,
     "metadata": {},
     "output_type": "execute_result"
    }
   ],
   "source": [
    "objConverted"
   ]
  },
  {
   "cell_type": "markdown",
   "metadata": {},
   "source": [
    "#### Perform some of the functions from PPT"
   ]
  },
  {
   "cell_type": "code",
   "execution_count": 56,
   "metadata": {
    "collapsed": false
   },
   "outputs": [
    {
     "data": {
      "text/plain": [
       "+ 10/10 vertices, named:\n",
       " [1] STANEV, TKGT   PILDIS, RA     SWARTZ, DA     HARKNESS, RP   SUTHERLAND, PG\n",
       " [6] GOLDMAN, I     BREGMAN, JN    WANDEL, A      BIERMANN, PL   EVRARD, AE    "
      ]
     },
     "execution_count": 56,
     "metadata": {},
     "output_type": "execute_result"
    }
   ],
   "source": [
    "V(objConverted)"
   ]
  },
  {
   "cell_type": "code",
   "execution_count": 58,
   "metadata": {
    "collapsed": false
   },
   "outputs": [
    {
     "data": {
      "text/plain": [
       "+ 8/8 edges (vertex names):\n",
       "[1] PILDIS, RA    --GOLDMAN, I   PILDIS, RA    --BREGMAN, JN \n",
       "[3] HARKNESS, RP  --WANDEL, A    SUTHERLAND, PG--WANDEL, A   \n",
       "[5] SWARTZ, DA    --BIERMANN, PL HARKNESS, RP  --BIERMANN, PL\n",
       "[7] SWARTZ, DA    --EVRARD, AE   SUTHERLAND, PG--EVRARD, AE  "
      ]
     },
     "execution_count": 58,
     "metadata": {},
     "output_type": "execute_result"
    }
   ],
   "source": [
    "E(objConverted)"
   ]
  },
  {
   "cell_type": "code",
   "execution_count": 59,
   "metadata": {
    "collapsed": false
   },
   "outputs": [
    {
     "data": {
      "text/html": [
       "<strong>$name</strong> = <ol class=list-inline>\n",
       "\t<li>'STANEV, TKGT'</li>\n",
       "\t<li>'PILDIS, RA'</li>\n",
       "\t<li>'SWARTZ, DA'</li>\n",
       "\t<li>'HARKNESS, RP'</li>\n",
       "\t<li>'SUTHERLAND, PG'</li>\n",
       "\t<li>'GOLDMAN, I'</li>\n",
       "\t<li>'BREGMAN, JN'</li>\n",
       "\t<li>'WANDEL, A'</li>\n",
       "\t<li>'BIERMANN, PL'</li>\n",
       "\t<li>'EVRARD, AE'</li>\n",
       "</ol>\n"
      ],
      "text/latex": [
       "\\textbf{\\$name} = \\begin{enumerate*}\n",
       "\\item 'STANEV, TKGT'\n",
       "\\item 'PILDIS, RA'\n",
       "\\item 'SWARTZ, DA'\n",
       "\\item 'HARKNESS, RP'\n",
       "\\item 'SUTHERLAND, PG'\n",
       "\\item 'GOLDMAN, I'\n",
       "\\item 'BREGMAN, JN'\n",
       "\\item 'WANDEL, A'\n",
       "\\item 'BIERMANN, PL'\n",
       "\\item 'EVRARD, AE'\n",
       "\\end{enumerate*}\n"
      ],
      "text/markdown": [
       "**$name** = 1. 'STANEV, TKGT'\n",
       "2. 'PILDIS, RA'\n",
       "3. 'SWARTZ, DA'\n",
       "4. 'HARKNESS, RP'\n",
       "5. 'SUTHERLAND, PG'\n",
       "6. 'GOLDMAN, I'\n",
       "7. 'BREGMAN, JN'\n",
       "8. 'WANDEL, A'\n",
       "9. 'BIERMANN, PL'\n",
       "10. 'EVRARD, AE'\n",
       "\n",
       "\n"
      ],
      "text/plain": [
       "$name\n",
       " [1] \"STANEV, TKGT\"   \"PILDIS, RA\"     \"SWARTZ, DA\"     \"HARKNESS, RP\"  \n",
       " [5] \"SUTHERLAND, PG\" \"GOLDMAN, I\"     \"BREGMAN, JN\"    \"WANDEL, A\"     \n",
       " [9] \"BIERMANN, PL\"   \"EVRARD, AE\"    \n"
      ]
     },
     "execution_count": 59,
     "metadata": {},
     "output_type": "execute_result"
    }
   ],
   "source": [
    "vertex_attr(objConverted)"
   ]
  },
  {
   "cell_type": "code",
   "execution_count": 60,
   "metadata": {
    "collapsed": true
   },
   "outputs": [],
   "source": [
    "try <- upgrade_graph(objConverted)"
   ]
  },
  {
   "cell_type": "code",
   "execution_count": 61,
   "metadata": {
    "collapsed": false
   },
   "outputs": [
    {
     "data": {
      "image/png": "[encoded data removed]",
      "image/svg+xml": [
       "<?xml version=\"1.0\" encoding=\"UTF-8\"?>\n",
       "<svg xmlns=\"http://www.w3.org/2000/svg\" xmlns:xlink=\"http://www.w3.org/1999/xlink\" width=\"504pt\" height=\"504pt\" viewBox=\"0 0 504 504\" version=\"1.1\">\n",
       "<defs>\n",
       "<g>\n",
       "<symbol overflow=\"visible\" id=\"glyph0-0\">\n",
       "<path style=\"stroke:none;\" d=\"M 0.1875 0 L 0.1875 -7.9375 L 8.390625 -7.9375 L 8.390625 0 Z M 7.3125 -1.078125 L 7.3125 -6.859375 L 1.265625 -6.859375 L 1.265625 -1.078125 Z \"/>\n",
       "</symbol>\n",
       "<symbol overflow=\"visible\" id=\"glyph0-1\">\n",
       "<path style=\"stroke:none;\" d=\"M 0.78125 -2.421875 C 0.976562 -1.878906 1.210938 -1.445312 1.484375 -1.125 C 1.960938 -0.5625 2.554688 -0.28125 3.265625 -0.28125 C 3.648438 -0.28125 3.976562 -0.398438 4.25 -0.640625 C 4.53125 -0.890625 4.671875 -1.234375 4.671875 -1.671875 C 4.671875 -2.054688 4.53125 -2.394531 4.25 -2.6875 C 4.070312 -2.863281 3.6875 -3.140625 3.09375 -3.515625 L 2.0625 -4.15625 C 1.757812 -4.34375 1.515625 -4.535156 1.328125 -4.734375 C 0.992188 -5.117188 0.828125 -5.539062 0.828125 -6 C 0.828125 -6.601562 1.023438 -7.101562 1.421875 -7.5 C 1.828125 -7.90625 2.363281 -8.109375 3.03125 -8.109375 C 3.300781 -8.109375 3.628906 -8.039062 4.015625 -7.90625 C 4.398438 -7.769531 4.617188 -7.703125 4.671875 -7.703125 C 4.816406 -7.703125 4.914062 -7.738281 4.96875 -7.8125 C 5.03125 -7.882812 5.078125 -7.984375 5.109375 -8.109375 L 5.359375 -8.109375 L 5.625 -5.5625 L 5.328125 -5.5625 C 5.140625 -6.320312 4.828125 -6.851562 4.390625 -7.15625 C 3.960938 -7.46875 3.535156 -7.625 3.109375 -7.625 C 2.785156 -7.625 2.5 -7.523438 2.25 -7.328125 C 2.007812 -7.140625 1.890625 -6.875 1.890625 -6.53125 C 1.890625 -6.21875 1.984375 -5.953125 2.171875 -5.734375 C 2.359375 -5.515625 2.648438 -5.285156 3.046875 -5.046875 L 4.09375 -4.390625 C 4.757812 -3.984375 5.222656 -3.609375 5.484375 -3.265625 C 5.753906 -2.921875 5.890625 -2.515625 5.890625 -2.046875 C 5.890625 -1.421875 5.648438 -0.894531 5.171875 -0.46875 C 4.703125 -0.0507812 4.097656 0.15625 3.359375 0.15625 C 2.984375 0.15625 2.59375 0.0859375 2.1875 -0.046875 C 1.789062 -0.191406 1.5625 -0.265625 1.5 -0.265625 C 1.363281 -0.265625 1.269531 -0.21875 1.21875 -0.125 C 1.164062 -0.0390625 1.132812 0.046875 1.125 0.140625 L 0.859375 0.140625 L 0.5 -2.421875 Z M 3.34375 -8.109375 Z \"/>\n",
       "</symbol>\n",
       "<symbol overflow=\"visible\" id=\"glyph0-2\">\n",
       "<path style=\"stroke:none;\" d=\"M 0.234375 -7.9375 L 7.015625 -7.9375 L 7.078125 -5.90625 L 6.796875 -5.90625 C 6.648438 -6.539062 6.46875 -6.953125 6.25 -7.140625 C 6.039062 -7.335938 5.585938 -7.4375 4.890625 -7.4375 L 4.21875 -7.4375 L 4.21875 -1.296875 C 4.21875 -0.835938 4.289062 -0.550781 4.4375 -0.4375 C 4.582031 -0.320312 4.898438 -0.25 5.390625 -0.21875 L 5.390625 0 L 1.890625 0 L 1.890625 -0.21875 C 2.398438 -0.257812 2.71875 -0.34375 2.84375 -0.46875 C 2.96875 -0.59375 3.03125 -0.914062 3.03125 -1.4375 L 3.03125 -7.4375 L 2.359375 -7.4375 C 1.691406 -7.4375 1.238281 -7.34375 1 -7.15625 C 0.757812 -6.96875 0.578125 -6.550781 0.453125 -5.90625 L 0.171875 -5.90625 Z \"/>\n",
       "</symbol>\n",
       "<symbol overflow=\"visible\" id=\"glyph0-3\">\n",
       "<path style=\"stroke:none;\" d=\"M 5.359375 -3.078125 L 3.96875 -6.390625 L 2.59375 -3.078125 Z M 0.171875 0 L 0.171875 -0.21875 C 0.484375 -0.25 0.71875 -0.363281 0.875 -0.5625 C 1.03125 -0.769531 1.296875 -1.3125 1.671875 -2.1875 L 4.171875 -8.078125 L 4.40625 -8.078125 L 7.390625 -1.28125 C 7.585938 -0.820312 7.742188 -0.539062 7.859375 -0.4375 C 7.984375 -0.332031 8.1875 -0.257812 8.46875 -0.21875 L 8.46875 0 L 5.421875 0 L 5.421875 -0.21875 C 5.765625 -0.25 5.988281 -0.285156 6.09375 -0.328125 C 6.195312 -0.378906 6.25 -0.488281 6.25 -0.65625 C 6.25 -0.71875 6.226562 -0.820312 6.1875 -0.96875 C 6.144531 -1.125 6.09375 -1.28125 6.03125 -1.4375 L 5.53125 -2.59375 L 2.390625 -2.59375 C 2.078125 -1.8125 1.890625 -1.332031 1.828125 -1.15625 C 1.765625 -0.976562 1.734375 -0.84375 1.734375 -0.75 C 1.734375 -0.539062 1.816406 -0.398438 1.984375 -0.328125 C 2.085938 -0.273438 2.28125 -0.238281 2.5625 -0.21875 L 2.5625 0 Z M 4.28125 -8.078125 Z \"/>\n",
       "</symbol>\n",
       "<symbol overflow=\"visible\" id=\"glyph0-4\">\n",
       "<path style=\"stroke:none;\" d=\"M 0.140625 -0.21875 C 0.628906 -0.269531 0.941406 -0.378906 1.078125 -0.546875 C 1.222656 -0.722656 1.296875 -1.128906 1.296875 -1.765625 L 1.296875 -7.0625 L 1.140625 -7.25 C 0.960938 -7.457031 0.8125 -7.582031 0.6875 -7.625 C 0.5625 -7.675781 0.378906 -7.707031 0.140625 -7.71875 L 0.140625 -7.9375 L 2.1875 -7.9375 L 6.8125 -2.15625 L 6.8125 -6.171875 C 6.8125 -6.835938 6.710938 -7.269531 6.515625 -7.46875 C 6.390625 -7.59375 6.109375 -7.675781 5.671875 -7.71875 L 5.671875 -7.9375 L 8.484375 -7.9375 L 8.484375 -7.71875 C 8.023438 -7.664062 7.71875 -7.550781 7.5625 -7.375 C 7.414062 -7.207031 7.34375 -6.804688 7.34375 -6.171875 L 7.34375 0.140625 L 7.140625 0.140625 L 1.828125 -6.4375 L 1.828125 -1.765625 C 1.828125 -1.109375 1.921875 -0.679688 2.109375 -0.484375 C 2.234375 -0.347656 2.515625 -0.257812 2.953125 -0.21875 L 2.953125 0 L 0.140625 0 Z M 4.34375 -7.9375 Z \"/>\n",
       "</symbol>\n",
       "<symbol overflow=\"visible\" id=\"glyph0-5\">\n",
       "<path style=\"stroke:none;\" d=\"M 0.140625 -0.21875 C 0.578125 -0.257812 0.859375 -0.335938 0.984375 -0.453125 C 1.117188 -0.566406 1.1875 -0.847656 1.1875 -1.296875 L 1.1875 -6.640625 C 1.1875 -7.066406 1.117188 -7.34375 0.984375 -7.46875 C 0.859375 -7.601562 0.578125 -7.6875 0.140625 -7.71875 L 0.140625 -7.9375 L 6.515625 -7.9375 L 6.546875 -6.21875 L 6.25 -6.21875 C 6.144531 -6.75 5.988281 -7.09375 5.78125 -7.25 C 5.582031 -7.40625 5.132812 -7.484375 4.4375 -7.484375 L 2.796875 -7.484375 C 2.617188 -7.484375 2.507812 -7.453125 2.46875 -7.390625 C 2.4375 -7.335938 2.421875 -7.234375 2.421875 -7.078125 L 2.421875 -4.40625 L 4.265625 -4.40625 C 4.773438 -4.40625 5.097656 -4.476562 5.234375 -4.625 C 5.378906 -4.78125 5.492188 -5.09375 5.578125 -5.5625 L 5.859375 -5.5625 L 5.859375 -2.78125 L 5.578125 -2.78125 C 5.484375 -3.238281 5.363281 -3.539062 5.21875 -3.6875 C 5.082031 -3.84375 4.765625 -3.921875 4.265625 -3.921875 L 2.421875 -3.921875 L 2.421875 -0.953125 C 2.421875 -0.710938 2.492188 -0.570312 2.640625 -0.53125 C 2.785156 -0.488281 3.234375 -0.46875 3.984375 -0.46875 C 4.796875 -0.46875 5.394531 -0.554688 5.78125 -0.734375 C 6.175781 -0.910156 6.523438 -1.34375 6.828125 -2.03125 L 7.171875 -2.03125 L 6.625 0 L 0.140625 0 Z M 3.671875 -7.9375 Z \"/>\n",
       "</symbol>\n",
       "<symbol overflow=\"visible\" id=\"glyph0-6\">\n",
       "<path style=\"stroke:none;\" d=\"M 3.390625 -7.9375 L 3.390625 -7.71875 C 3.085938 -7.71875 2.878906 -7.695312 2.765625 -7.65625 C 2.578125 -7.59375 2.484375 -7.46875 2.484375 -7.28125 C 2.484375 -7.175781 2.515625 -7.035156 2.578125 -6.859375 C 2.648438 -6.691406 2.78125 -6.398438 2.96875 -5.984375 L 4.84375 -1.8125 L 6.546875 -6.328125 C 6.617188 -6.523438 6.675781 -6.691406 6.71875 -6.828125 C 6.757812 -6.960938 6.78125 -7.078125 6.78125 -7.171875 C 6.78125 -7.398438 6.679688 -7.554688 6.484375 -7.640625 C 6.367188 -7.679688 6.175781 -7.707031 5.90625 -7.71875 L 5.90625 -7.9375 L 8.359375 -7.9375 L 8.359375 -7.734375 C 8.097656 -7.703125 7.910156 -7.632812 7.796875 -7.53125 C 7.609375 -7.375 7.425781 -7.066406 7.25 -6.609375 L 4.59375 0.140625 L 4.40625 0.140625 L 1.453125 -6.453125 C 1.203125 -7.015625 1 -7.363281 0.84375 -7.5 C 0.695312 -7.632812 0.476562 -7.710938 0.1875 -7.734375 L 0.1875 -7.9375 Z \"/>\n",
       "</symbol>\n",
       "<symbol overflow=\"visible\" id=\"glyph0-7\">\n",
       "<path style=\"stroke:none;\" d=\"M 2.9375 -0.125 C 2.9375 0.269531 2.796875 0.632812 2.515625 0.96875 C 2.234375 1.3125 1.925781 1.5625 1.59375 1.71875 L 1.484375 1.484375 C 1.859375 1.265625 2.113281 1.03125 2.25 0.78125 C 2.394531 0.539062 2.46875 0.335938 2.46875 0.171875 C 2.46875 0.117188 2.453125 0.0820312 2.421875 0.0625 C 2.390625 0.0507812 2.351562 0.046875 2.3125 0.046875 L 1.921875 0.09375 C 1.753906 0.09375 1.601562 0.0390625 1.46875 -0.0625 C 1.332031 -0.175781 1.265625 -0.335938 1.265625 -0.546875 C 1.265625 -0.703125 1.316406 -0.851562 1.421875 -1 C 1.535156 -1.144531 1.722656 -1.21875 1.984375 -1.21875 C 2.234375 -1.21875 2.453125 -1.117188 2.640625 -0.921875 C 2.835938 -0.734375 2.9375 -0.46875 2.9375 -0.125 Z \"/>\n",
       "</symbol>\n",
       "<symbol overflow=\"visible\" id=\"glyph0-8\">\n",
       "<path style=\"stroke:none;\" d=\"\"/>\n",
       "</symbol>\n",
       "<symbol overflow=\"visible\" id=\"glyph0-9\">\n",
       "<path style=\"stroke:none;\" d=\"M 0.21875 -0.21875 C 0.707031 -0.257812 1.007812 -0.347656 1.125 -0.484375 C 1.238281 -0.617188 1.296875 -0.9375 1.296875 -1.4375 L 1.296875 -6.640625 C 1.296875 -7.078125 1.226562 -7.359375 1.09375 -7.484375 C 0.96875 -7.609375 0.675781 -7.6875 0.21875 -7.71875 L 0.21875 -7.9375 L 3.640625 -7.9375 L 3.640625 -7.71875 C 3.171875 -7.695312 2.867188 -7.617188 2.734375 -7.484375 C 2.597656 -7.347656 2.53125 -7.066406 2.53125 -6.640625 L 2.53125 -4.171875 C 3.269531 -4.804688 3.875 -5.34375 4.34375 -5.78125 C 5.175781 -6.582031 5.59375 -7.097656 5.59375 -7.328125 C 5.59375 -7.484375 5.519531 -7.585938 5.375 -7.640625 C 5.238281 -7.691406 5.039062 -7.71875 4.78125 -7.71875 L 4.78125 -7.9375 L 7.921875 -7.9375 L 7.921875 -7.75 C 7.535156 -7.707031 7.234375 -7.628906 7.015625 -7.515625 C 6.796875 -7.398438 6.488281 -7.15625 6.09375 -6.78125 L 3.8125 -4.546875 L 6.609375 -1.53125 C 7.128906 -0.96875 7.484375 -0.613281 7.671875 -0.46875 C 7.859375 -0.332031 8.132812 -0.242188 8.5 -0.203125 L 8.5 0 L 4.828125 0 L 4.828125 -0.21875 C 5.160156 -0.226562 5.382812 -0.253906 5.5 -0.296875 C 5.613281 -0.335938 5.671875 -0.421875 5.671875 -0.546875 C 5.671875 -0.609375 5.632812 -0.707031 5.5625 -0.84375 C 5.488281 -0.976562 5.367188 -1.132812 5.203125 -1.3125 L 2.9375 -3.8125 L 2.53125 -3.46875 L 2.53125 -1.296875 C 2.53125 -0.859375 2.597656 -0.578125 2.734375 -0.453125 C 2.867188 -0.335938 3.160156 -0.257812 3.609375 -0.21875 L 3.609375 0 L 0.21875 0 Z \"/>\n",
       "</symbol>\n",
       "<symbol overflow=\"visible\" id=\"glyph0-10\">\n",
       "<path style=\"stroke:none;\" d=\"M 4.4375 -8.078125 C 4.90625 -8.078125 5.363281 -8.007812 5.8125 -7.875 C 6.257812 -7.75 6.519531 -7.6875 6.59375 -7.6875 C 6.757812 -7.6875 6.878906 -7.71875 6.953125 -7.78125 C 7.023438 -7.851562 7.085938 -7.953125 7.140625 -8.078125 L 7.40625 -8.078125 L 7.5 -5.5625 L 7.21875 -5.5625 C 6.96875 -6.132812 6.710938 -6.566406 6.453125 -6.859375 C 5.984375 -7.359375 5.367188 -7.609375 4.609375 -7.609375 C 3.835938 -7.609375 3.160156 -7.316406 2.578125 -6.734375 C 1.992188 -6.148438 1.703125 -5.1875 1.703125 -3.84375 C 1.703125 -2.738281 1.992188 -1.875 2.578125 -1.25 C 3.160156 -0.632812 3.878906 -0.328125 4.734375 -0.328125 C 4.878906 -0.328125 5.046875 -0.335938 5.234375 -0.359375 C 5.429688 -0.390625 5.617188 -0.4375 5.796875 -0.5 C 6.085938 -0.59375 6.265625 -0.671875 6.328125 -0.734375 C 6.398438 -0.804688 6.4375 -0.90625 6.4375 -1.03125 L 6.4375 -2.953125 C 6.4375 -3.410156 6.367188 -3.695312 6.234375 -3.8125 C 6.109375 -3.925781 5.828125 -4 5.390625 -4.03125 L 5.390625 -4.25 L 8.4375 -4.25 L 8.4375 -4.03125 C 8.144531 -4.007812 7.953125 -3.957031 7.859375 -3.875 C 7.691406 -3.75 7.609375 -3.492188 7.609375 -3.109375 L 7.609375 -0.75 C 7.609375 -0.601562 7.257812 -0.410156 6.5625 -0.171875 C 5.875 0.0546875 5.210938 0.171875 4.578125 0.171875 C 3.410156 0.171875 2.425781 -0.171875 1.625 -0.859375 C 0.726562 -1.609375 0.28125 -2.617188 0.28125 -3.890625 C 0.28125 -5.003906 0.632812 -5.960938 1.34375 -6.765625 C 2.125 -7.640625 3.15625 -8.078125 4.4375 -8.078125 Z M 4.25 -8.078125 Z \"/>\n",
       "</symbol>\n",
       "<symbol overflow=\"visible\" id=\"glyph0-11\">\n",
       "<path style=\"stroke:none;\" d=\"M 5.1875 -5.765625 C 5.1875 -6.492188 4.875 -6.992188 4.25 -7.265625 C 3.90625 -7.421875 3.472656 -7.5 2.953125 -7.5 C 2.703125 -7.5 2.550781 -7.472656 2.5 -7.421875 C 2.445312 -7.367188 2.421875 -7.257812 2.421875 -7.09375 L 2.421875 -3.96875 C 2.628906 -3.945312 2.765625 -3.929688 2.828125 -3.921875 C 2.898438 -3.921875 2.96875 -3.921875 3.03125 -3.921875 C 3.582031 -3.921875 4.015625 -4 4.328125 -4.15625 C 4.898438 -4.445312 5.1875 -4.984375 5.1875 -5.765625 Z M 0.1875 -0.21875 C 0.644531 -0.257812 0.929688 -0.347656 1.046875 -0.484375 C 1.160156 -0.628906 1.21875 -0.945312 1.21875 -1.4375 L 1.21875 -6.640625 C 1.21875 -7.054688 1.15625 -7.332031 1.03125 -7.46875 C 0.90625 -7.601562 0.625 -7.6875 0.1875 -7.71875 L 0.1875 -7.9375 L 3.359375 -7.9375 C 4.367188 -7.9375 5.144531 -7.738281 5.6875 -7.34375 C 6.226562 -6.945312 6.5 -6.429688 6.5 -5.796875 C 6.5 -4.972656 6.195312 -4.378906 5.59375 -4.015625 C 5 -3.648438 4.253906 -3.46875 3.359375 -3.46875 C 3.234375 -3.46875 3.066406 -3.46875 2.859375 -3.46875 C 2.660156 -3.476562 2.515625 -3.484375 2.421875 -3.484375 L 2.421875 -1.296875 C 2.421875 -0.847656 2.488281 -0.5625 2.625 -0.4375 C 2.757812 -0.320312 3.066406 -0.25 3.546875 -0.21875 L 3.546875 0 L 0.1875 0 Z \"/>\n",
       "</symbol>\n",
       "<symbol overflow=\"visible\" id=\"glyph0-12\">\n",
       "<path style=\"stroke:none;\" d=\"M 0.1875 -0.21875 C 0.675781 -0.25 0.992188 -0.320312 1.140625 -0.4375 C 1.285156 -0.550781 1.359375 -0.835938 1.359375 -1.296875 L 1.359375 -6.640625 C 1.359375 -7.078125 1.285156 -7.359375 1.140625 -7.484375 C 0.992188 -7.617188 0.675781 -7.695312 0.1875 -7.71875 L 0.1875 -7.9375 L 3.75 -7.9375 L 3.75 -7.71875 C 3.257812 -7.695312 2.941406 -7.617188 2.796875 -7.484375 C 2.648438 -7.359375 2.578125 -7.078125 2.578125 -6.640625 L 2.578125 -1.296875 C 2.578125 -0.835938 2.648438 -0.550781 2.796875 -0.4375 C 2.941406 -0.320312 3.257812 -0.25 3.75 -0.21875 L 3.75 0 L 0.1875 0 Z M 1.96875 -7.9375 Z \"/>\n",
       "</symbol>\n",
       "<symbol overflow=\"visible\" id=\"glyph0-13\">\n",
       "<path style=\"stroke:none;\" d=\"M 0.140625 -0.21875 C 0.578125 -0.257812 0.859375 -0.335938 0.984375 -0.453125 C 1.117188 -0.566406 1.1875 -0.847656 1.1875 -1.296875 L 1.1875 -6.640625 C 1.1875 -7.066406 1.117188 -7.34375 0.984375 -7.46875 C 0.859375 -7.601562 0.578125 -7.6875 0.140625 -7.71875 L 0.140625 -7.9375 L 3.53125 -7.9375 L 3.53125 -7.71875 C 3.082031 -7.695312 2.785156 -7.625 2.640625 -7.5 C 2.492188 -7.375 2.421875 -7.113281 2.421875 -6.71875 L 2.421875 -0.953125 C 2.421875 -0.816406 2.441406 -0.710938 2.484375 -0.640625 C 2.523438 -0.566406 2.625 -0.519531 2.78125 -0.5 C 2.863281 -0.488281 2.957031 -0.476562 3.0625 -0.46875 C 3.164062 -0.46875 3.351562 -0.46875 3.625 -0.46875 C 4.6875 -0.46875 5.40625 -0.554688 5.78125 -0.734375 C 6.15625 -0.910156 6.519531 -1.359375 6.875 -2.078125 L 7.171875 -2.078125 L 6.59375 0 L 0.140625 0 Z \"/>\n",
       "</symbol>\n",
       "<symbol overflow=\"visible\" id=\"glyph0-14\">\n",
       "<path style=\"stroke:none;\" d=\"M 2.46875 -0.921875 C 2.46875 -0.734375 2.515625 -0.609375 2.609375 -0.546875 C 2.703125 -0.484375 2.898438 -0.453125 3.203125 -0.453125 C 4.140625 -0.453125 4.910156 -0.632812 5.515625 -1 C 6.453125 -1.570312 6.921875 -2.546875 6.921875 -3.921875 C 6.921875 -5.148438 6.535156 -6.078125 5.765625 -6.703125 C 5.109375 -7.234375 4.238281 -7.5 3.15625 -7.5 C 2.882812 -7.5 2.703125 -7.46875 2.609375 -7.40625 C 2.515625 -7.351562 2.46875 -7.226562 2.46875 -7.03125 Z M 0.1875 -0.21875 C 0.625 -0.257812 0.910156 -0.335938 1.046875 -0.453125 C 1.179688 -0.566406 1.25 -0.847656 1.25 -1.296875 L 1.25 -6.640625 C 1.25 -7.078125 1.179688 -7.359375 1.046875 -7.484375 C 0.921875 -7.609375 0.632812 -7.6875 0.1875 -7.71875 L 0.1875 -7.9375 L 3.421875 -7.9375 C 4.515625 -7.9375 5.4375 -7.757812 6.1875 -7.40625 C 7.550781 -6.757812 8.234375 -5.601562 8.234375 -3.9375 C 8.234375 -3.34375 8.109375 -2.773438 7.859375 -2.234375 C 7.617188 -1.703125 7.253906 -1.25 6.765625 -0.875 C 6.453125 -0.632812 6.128906 -0.457031 5.796875 -0.34375 C 5.179688 -0.113281 4.425781 0 3.53125 0 L 0.1875 0 Z \"/>\n",
       "</symbol>\n",
       "<symbol overflow=\"visible\" id=\"glyph0-15\">\n",
       "<path style=\"stroke:none;\" d=\"M 2.390625 -4.109375 C 3.253906 -4.140625 3.867188 -4.226562 4.234375 -4.375 C 4.867188 -4.632812 5.1875 -5.128906 5.1875 -5.859375 C 5.1875 -6.546875 4.90625 -7.019531 4.34375 -7.28125 C 4.03125 -7.414062 3.625 -7.484375 3.125 -7.484375 C 2.78125 -7.484375 2.570312 -7.457031 2.5 -7.40625 C 2.425781 -7.363281 2.390625 -7.25 2.390625 -7.0625 Z M 0.140625 -0.21875 C 0.597656 -0.257812 0.882812 -0.347656 1 -0.484375 C 1.113281 -0.617188 1.171875 -0.9375 1.171875 -1.4375 L 1.171875 -6.640625 C 1.171875 -7.054688 1.101562 -7.332031 0.96875 -7.46875 C 0.84375 -7.601562 0.566406 -7.6875 0.140625 -7.71875 L 0.140625 -7.9375 L 3.453125 -7.9375 C 4.148438 -7.9375 4.726562 -7.847656 5.1875 -7.671875 C 6.0625 -7.335938 6.5 -6.726562 6.5 -5.84375 C 6.5 -5.25 6.300781 -4.789062 5.90625 -4.46875 C 5.519531 -4.144531 4.992188 -3.929688 4.328125 -3.828125 L 6.796875 -0.796875 C 6.953125 -0.609375 7.101562 -0.46875 7.25 -0.375 C 7.40625 -0.289062 7.601562 -0.238281 7.84375 -0.21875 L 7.84375 0 L 5.90625 0 L 3.046875 -3.6875 L 2.390625 -3.65625 L 2.390625 -1.296875 C 2.390625 -0.859375 2.457031 -0.578125 2.59375 -0.453125 C 2.726562 -0.335938 3.019531 -0.257812 3.46875 -0.21875 L 3.46875 0 L 0.140625 0 Z \"/>\n",
       "</symbol>\n",
       "<symbol overflow=\"visible\" id=\"glyph0-16\">\n",
       "<path style=\"stroke:none;\" d=\"M 3 -7.9375 L 3 -7.71875 C 2.757812 -7.707031 2.585938 -7.6875 2.484375 -7.65625 C 2.304688 -7.582031 2.21875 -7.460938 2.21875 -7.296875 C 2.21875 -7.210938 2.226562 -7.132812 2.25 -7.0625 C 2.269531 -6.988281 2.300781 -6.894531 2.34375 -6.78125 L 4.078125 -2.265625 L 5.359375 -5.65625 L 4.78125 -7.09375 C 4.675781 -7.363281 4.519531 -7.539062 4.3125 -7.625 C 4.1875 -7.6875 4 -7.71875 3.75 -7.71875 L 3.75 -7.9375 L 6.953125 -7.9375 L 6.953125 -7.71875 C 6.648438 -7.71875 6.441406 -7.695312 6.328125 -7.65625 C 6.148438 -7.582031 6.0625 -7.445312 6.0625 -7.25 C 6.0625 -7.175781 6.066406 -7.113281 6.078125 -7.0625 C 6.097656 -7.007812 6.140625 -6.898438 6.203125 -6.734375 L 7.9375 -2.234375 L 9.4375 -6.3125 C 9.519531 -6.539062 9.578125 -6.742188 9.609375 -6.921875 C 9.628906 -7.023438 9.640625 -7.109375 9.640625 -7.171875 C 9.640625 -7.390625 9.535156 -7.539062 9.328125 -7.625 C 9.210938 -7.675781 9.035156 -7.707031 8.796875 -7.71875 L 8.796875 -7.9375 L 11.1875 -7.9375 L 11.1875 -7.71875 C 10.96875 -7.6875 10.800781 -7.640625 10.6875 -7.578125 C 10.488281 -7.460938 10.335938 -7.265625 10.234375 -6.984375 L 8.953125 -3.421875 L 8.453125 -2.046875 L 7.734375 0.140625 L 7.546875 0.140625 L 7.0625 -1.25 L 5.640625 -4.9375 L 3.796875 0.140625 L 3.609375 0.140625 L 2.75 -2.359375 L 1.71875 -5.15625 C 1.289062 -6.3125 0.992188 -7.019531 0.828125 -7.28125 C 0.660156 -7.550781 0.398438 -7.695312 0.046875 -7.71875 L 0.046875 -7.9375 Z \"/>\n",
       "</symbol>\n",
       "<symbol overflow=\"visible\" id=\"glyph0-17\">\n",
       "<path style=\"stroke:none;\" d=\"M 0.078125 -0.140625 L 5.34375 -7.484375 L 2.578125 -7.484375 C 1.878906 -7.484375 1.382812 -7.3125 1.09375 -6.96875 C 0.914062 -6.757812 0.78125 -6.398438 0.6875 -5.890625 L 0.375 -5.890625 L 0.609375 -7.9375 L 6.9375 -7.9375 L 6.9375 -7.8125 L 1.734375 -0.453125 L 4.8125 -0.453125 C 5.507812 -0.453125 6.019531 -0.617188 6.34375 -0.953125 C 6.539062 -1.160156 6.722656 -1.546875 6.890625 -2.109375 L 7.171875 -2.109375 L 6.875 0 L 0.078125 0 Z M 3.671875 -7.9375 Z \"/>\n",
       "</symbol>\n",
       "<symbol overflow=\"visible\" id=\"glyph0-18\">\n",
       "<path style=\"stroke:none;\" d=\"M 0.1875 -0.21875 C 0.65625 -0.269531 0.945312 -0.351562 1.0625 -0.46875 C 1.1875 -0.59375 1.25 -0.914062 1.25 -1.4375 L 1.25 -6.640625 C 1.25 -7.066406 1.179688 -7.34375 1.046875 -7.46875 C 0.921875 -7.601562 0.632812 -7.6875 0.1875 -7.71875 L 0.1875 -7.9375 L 3.53125 -7.9375 L 3.53125 -7.71875 C 3.082031 -7.6875 2.789062 -7.601562 2.65625 -7.46875 C 2.53125 -7.34375 2.46875 -7.066406 2.46875 -6.640625 L 2.46875 -4.296875 L 6.109375 -4.296875 L 6.109375 -6.640625 C 6.109375 -7.066406 6.039062 -7.34375 5.90625 -7.46875 C 5.78125 -7.601562 5.492188 -7.6875 5.046875 -7.71875 L 5.046875 -7.9375 L 8.390625 -7.9375 L 8.390625 -7.71875 C 7.941406 -7.6875 7.648438 -7.601562 7.515625 -7.46875 C 7.390625 -7.34375 7.328125 -7.066406 7.328125 -6.640625 L 7.328125 -1.296875 C 7.328125 -0.859375 7.390625 -0.578125 7.515625 -0.453125 C 7.648438 -0.335938 7.941406 -0.257812 8.390625 -0.21875 L 8.390625 0 L 5.046875 0 L 5.046875 -0.21875 C 5.523438 -0.257812 5.820312 -0.34375 5.9375 -0.46875 C 6.050781 -0.59375 6.109375 -0.914062 6.109375 -1.4375 L 6.109375 -3.78125 L 2.46875 -3.78125 L 2.46875 -1.296875 C 2.46875 -0.859375 2.53125 -0.578125 2.65625 -0.453125 C 2.789062 -0.328125 3.082031 -0.25 3.53125 -0.21875 L 3.53125 0 L 0.1875 0 Z \"/>\n",
       "</symbol>\n",
       "<symbol overflow=\"visible\" id=\"glyph0-19\">\n",
       "<path style=\"stroke:none;\" d=\"M 3.5625 -7.9375 L 3.5625 -7.71875 C 3.101562 -7.6875 2.804688 -7.609375 2.671875 -7.484375 C 2.535156 -7.359375 2.46875 -7.078125 2.46875 -6.640625 L 2.46875 -2.796875 C 2.46875 -2.171875 2.550781 -1.679688 2.71875 -1.328125 C 3.039062 -0.691406 3.648438 -0.375 4.546875 -0.375 C 5.523438 -0.375 6.179688 -0.703125 6.515625 -1.359375 C 6.703125 -1.722656 6.796875 -2.285156 6.796875 -3.046875 L 6.796875 -6.171875 C 6.796875 -6.828125 6.71875 -7.238281 6.5625 -7.40625 C 6.40625 -7.570312 6.109375 -7.675781 5.671875 -7.71875 L 5.671875 -7.9375 L 8.453125 -7.9375 L 8.453125 -7.71875 C 7.992188 -7.664062 7.691406 -7.550781 7.546875 -7.375 C 7.398438 -7.207031 7.328125 -6.804688 7.328125 -6.171875 L 7.328125 -3.046875 C 7.328125 -2.222656 7.203125 -1.578125 6.953125 -1.109375 C 6.484375 -0.253906 5.59375 0.171875 4.28125 0.171875 C 2.976562 0.171875 2.09375 -0.25 1.625 -1.09375 C 1.375 -1.550781 1.25 -2.148438 1.25 -2.890625 L 1.25 -6.640625 C 1.25 -7.078125 1.179688 -7.359375 1.046875 -7.484375 C 0.910156 -7.609375 0.617188 -7.6875 0.171875 -7.71875 L 0.171875 -7.9375 Z M 4.34375 -7.9375 Z \"/>\n",
       "</symbol>\n",
       "<symbol overflow=\"visible\" id=\"glyph0-20\">\n",
       "<path style=\"stroke:none;\" d=\"M 1.71875 -3.96875 C 1.71875 -2.707031 1.960938 -1.773438 2.453125 -1.171875 C 2.953125 -0.566406 3.566406 -0.265625 4.296875 -0.265625 C 4.992188 -0.265625 5.59375 -0.554688 6.09375 -1.140625 C 6.601562 -1.734375 6.859375 -2.675781 6.859375 -3.96875 C 6.859375 -5.28125 6.601562 -6.222656 6.09375 -6.796875 C 5.582031 -7.378906 4.984375 -7.671875 4.296875 -7.671875 C 3.578125 -7.671875 2.96875 -7.367188 2.46875 -6.765625 C 1.96875 -6.160156 1.71875 -5.226562 1.71875 -3.96875 Z M 0.359375 -3.96875 C 0.359375 -5.25 0.757812 -6.273438 1.5625 -7.046875 C 2.300781 -7.753906 3.210938 -8.109375 4.296875 -8.109375 C 5.367188 -8.109375 6.273438 -7.753906 7.015625 -7.046875 C 7.816406 -6.273438 8.21875 -5.25 8.21875 -3.96875 C 8.21875 -2.664062 7.804688 -1.628906 6.984375 -0.859375 C 6.234375 -0.171875 5.335938 0.171875 4.296875 0.171875 C 3.171875 0.171875 2.234375 -0.207031 1.484375 -0.96875 C 0.734375 -1.75 0.359375 -2.75 0.359375 -3.96875 Z M 4.296875 -8.109375 Z \"/>\n",
       "</symbol>\n",
       "<symbol overflow=\"visible\" id=\"glyph0-21\">\n",
       "<path style=\"stroke:none;\" d=\"M 0.140625 -0.21875 C 0.628906 -0.269531 0.941406 -0.378906 1.078125 -0.546875 C 1.222656 -0.722656 1.296875 -1.128906 1.296875 -1.765625 L 1.296875 -6.640625 C 1.296875 -7.078125 1.226562 -7.359375 1.09375 -7.484375 C 0.957031 -7.617188 0.648438 -7.695312 0.171875 -7.71875 L 0.171875 -7.9375 L 2.53125 -7.9375 L 5.3125 -1.890625 L 7.96875 -7.9375 L 10.359375 -7.9375 L 10.359375 -7.71875 C 9.910156 -7.6875 9.625 -7.601562 9.5 -7.46875 C 9.375 -7.34375 9.3125 -7.066406 9.3125 -6.640625 L 9.3125 -1.296875 C 9.3125 -0.859375 9.375 -0.578125 9.5 -0.453125 C 9.625 -0.335938 9.910156 -0.257812 10.359375 -0.21875 L 10.359375 0 L 7 0 L 7 -0.21875 C 7.476562 -0.257812 7.773438 -0.347656 7.890625 -0.484375 C 8.015625 -0.617188 8.078125 -0.9375 8.078125 -1.4375 L 8.078125 -6.828125 L 5.015625 0 L 4.84375 0 L 1.828125 -6.546875 L 1.828125 -1.765625 C 1.828125 -1.109375 1.921875 -0.679688 2.109375 -0.484375 C 2.234375 -0.347656 2.515625 -0.257812 2.953125 -0.21875 L 2.953125 0 L 0.140625 0 Z \"/>\n",
       "</symbol>\n",
       "<symbol overflow=\"visible\" id=\"glyph0-22\">\n",
       "<path style=\"stroke:none;\" d=\"M 3.5625 -0.4375 C 4.175781 -0.4375 4.691406 -0.554688 5.109375 -0.796875 C 5.523438 -1.035156 5.734375 -1.488281 5.734375 -2.15625 C 5.734375 -2.832031 5.488281 -3.289062 5 -3.53125 C 4.519531 -3.78125 3.90625 -3.90625 3.15625 -3.90625 C 2.96875 -3.90625 2.847656 -3.90625 2.796875 -3.90625 C 2.753906 -3.90625 2.679688 -3.910156 2.578125 -3.921875 L 2.578125 -0.921875 C 2.578125 -0.710938 2.632812 -0.578125 2.75 -0.515625 C 2.875 -0.460938 3.144531 -0.4375 3.5625 -0.4375 Z M 0.203125 -0.21875 C 0.691406 -0.25 1.003906 -0.320312 1.140625 -0.4375 C 1.285156 -0.5625 1.359375 -0.847656 1.359375 -1.296875 L 1.359375 -6.640625 C 1.359375 -7.078125 1.285156 -7.359375 1.140625 -7.484375 C 1.003906 -7.617188 0.691406 -7.695312 0.203125 -7.71875 L 0.203125 -7.9375 L 3.5625 -7.9375 C 4.53125 -7.9375 5.296875 -7.78125 5.859375 -7.46875 C 6.421875 -7.164062 6.703125 -6.640625 6.703125 -5.890625 C 6.703125 -5.316406 6.503906 -4.882812 6.109375 -4.59375 C 5.890625 -4.425781 5.554688 -4.285156 5.109375 -4.171875 C 5.660156 -4.046875 6.128906 -3.828125 6.515625 -3.515625 C 6.910156 -3.203125 7.109375 -2.765625 7.109375 -2.203125 C 7.109375 -1.265625 6.675781 -0.625 5.8125 -0.28125 C 5.351562 -0.09375 4.789062 0 4.125 0 L 0.203125 0 Z M 3.71875 -4.390625 C 4.125 -4.398438 4.457031 -4.460938 4.71875 -4.578125 C 5.226562 -4.816406 5.484375 -5.238281 5.484375 -5.84375 C 5.484375 -6.5625 5.191406 -7.046875 4.609375 -7.296875 C 4.285156 -7.429688 3.789062 -7.5 3.125 -7.5 C 2.875 -7.5 2.71875 -7.472656 2.65625 -7.421875 C 2.601562 -7.378906 2.578125 -7.265625 2.578125 -7.078125 L 2.578125 -4.375 Z \"/>\n",
       "</symbol>\n",
       "<symbol overflow=\"visible\" id=\"glyph0-23\">\n",
       "<path style=\"stroke:none;\" d=\"M 0.125 -0.6875 C 0.125 -0.90625 0.179688 -1.0625 0.296875 -1.15625 C 0.421875 -1.25 0.550781 -1.296875 0.6875 -1.296875 C 0.957031 -1.296875 1.15625 -1.125 1.28125 -0.78125 C 1.414062 -0.445312 1.550781 -0.28125 1.6875 -0.28125 C 1.84375 -0.28125 1.953125 -0.347656 2.015625 -0.484375 C 2.078125 -0.628906 2.109375 -0.867188 2.109375 -1.203125 L 2.109375 -6.640625 C 2.109375 -7.085938 2.035156 -7.375 1.890625 -7.5 C 1.742188 -7.625 1.445312 -7.695312 1 -7.71875 L 1 -7.9375 L 4.4375 -7.9375 L 4.4375 -7.71875 C 3.976562 -7.6875 3.675781 -7.601562 3.53125 -7.46875 C 3.394531 -7.332031 3.328125 -7.054688 3.328125 -6.640625 L 3.328125 -2.234375 C 3.328125 -1.429688 3.132812 -0.835938 2.75 -0.453125 C 2.363281 -0.0546875 1.882812 0.140625 1.3125 0.140625 C 0.9375 0.140625 0.644531 0.0546875 0.4375 -0.109375 C 0.226562 -0.285156 0.125 -0.476562 0.125 -0.6875 Z \"/>\n",
       "</symbol>\n",
       "</g>\n",
       "</defs>\n",
       "<g id=\"surface1\">\n",
       "<rect x=\"0\" y=\"0\" width=\"504\" height=\"504\" style=\"fill:rgb(100%,100%,100%);fill-opacity:1;stroke:none;\"/>\n",
       "<path style=\"fill:none;stroke-width:0.75;stroke-linecap:round;stroke-linejoin:round;stroke:rgb(66.27451%,66.27451%,66.27451%);stroke-opacity:1;stroke-miterlimit:10;\" d=\"M 192.40625 102.164062 L 192.5625 102.121094 L 193.542969 101.875 L 195.726562 101.328125 L 198.972656 100.511719 L 202.777344 99.558594 L 206.605469 98.59375 L 210.128906 97.710938 L 213.238281 96.929688 L 215.988281 96.238281 L 218.492188 95.609375 L 220.882812 95.007812 L 221.148438 94.941406 L 223.53125 94.34375 L 226.015625 93.71875 L 228.730469 93.039062 L 231.796875 92.269531 L 235.273438 91.394531 L 239.078125 90.4375 L 242.910156 89.476562 L 246.25 88.636719 L 248.570312 88.054688 L 249.671875 87.777344 L 249.890625 87.722656 \"/>\n",
       "<path style=\"fill:none;stroke-width:0.75;stroke-linecap:round;stroke-linejoin:round;stroke:rgb(66.27451%,66.27451%,66.27451%);stroke-opacity:1;stroke-miterlimit:10;\" d=\"M 169.976562 110.339844 L 169.828125 110.410156 L 168.917969 110.855469 L 166.890625 111.839844 L 163.882812 113.304688 L 160.367188 115.015625 L 156.839844 116.734375 L 153.601562 118.3125 L 150.742188 119.703125 L 148.21875 120.933594 L 145.914062 122.054688 L 143.714844 123.125 L 143.582031 123.1875 L 141.382812 124.261719 L 139.089844 125.375 L 136.582031 126.597656 L 133.746094 127.976562 L 130.53125 129.542969 L 127.015625 131.253906 L 123.484375 132.972656 L 120.429688 134.460938 L 118.335938 135.480469 L 117.363281 135.953125 L 117.1875 136.039062 \"/>\n",
       "<path style=\"fill:none;stroke-width:0.75;stroke-linecap:round;stroke-linejoin:round;stroke:rgb(66.27451%,66.27451%,66.27451%);stroke-opacity:1;stroke-miterlimit:10;\" d=\"M 237.507812 402.457031 L 237.65625 402.429688 L 238.578125 402.246094 L 240.691406 401.824219 L 243.980469 401.167969 L 248.046875 400.359375 L 252.367188 399.5 L 256.527344 398.671875 L 260.316406 397.917969 L 263.6875 397.246094 L 266.710938 396.644531 L 269.492188 396.089844 L 272.160156 395.5625 L 272.8125 395.429688 L 275.46875 394.902344 L 278.210938 394.355469 L 281.160156 393.769531 L 284.4375 393.117188 L 288.125 392.382812 L 292.207031 391.570312 L 296.519531 390.714844 L 300.695312 389.882812 L 304.21875 389.179688 L 306.644531 388.699219 L 307.835938 388.460938 L 308.113281 388.40625 L 308.117188 388.40625 \"/>\n",
       "<path style=\"fill:none;stroke-width:0.75;stroke-linecap:round;stroke-linejoin:round;stroke:rgb(66.27451%,66.27451%,66.27451%);stroke-opacity:1;stroke-miterlimit:10;\" d=\"M 349.605469 320.003906 L 349.539062 320.15625 L 349.128906 321.066406 L 348.207031 323.113281 L 346.832031 326.167969 L 345.214844 329.769531 L 343.574219 333.414062 L 342.058594 336.78125 L 340.714844 339.765625 L 339.53125 342.398438 L 338.457031 344.789062 L 337.433594 347.066406 L 337.207031 347.5625 L 336.191406 349.824219 L 335.128906 352.183594 L 333.972656 354.753906 L 332.667969 357.652344 L 331.191406 360.9375 L 329.570312 364.539062 L 327.929688 368.1875 L 326.476562 371.410156 L 324.929688 374.855469 L 324.808594 375.117188 L 324.808594 375.121094 \"/>\n",
       "<path style=\"fill:none;stroke-width:0.75;stroke-linecap:round;stroke-linejoin:round;stroke:rgb(66.27451%,66.27451%,66.27451%);stroke-opacity:1;stroke-miterlimit:10;\" d=\"M 173.429688 294.550781 L 173.367188 294.703125 L 172.976562 295.636719 L 172.101562 297.710938 L 170.804688 300.796875 L 169.285156 304.40625 L 167.761719 308.03125 L 166.363281 311.359375 L 165.125 314.296875 L 164.035156 316.890625 L 163.039062 319.257812 L 162.085938 321.519531 L 162.015625 321.6875 L 161.066406 323.945312 L 160.078125 326.300781 L 158.992188 328.875 L 157.769531 331.785156 L 156.382812 335.082031 L 154.863281 338.691406 L 153.339844 342.316406 L 152.015625 345.460938 L 151.105469 347.625 L 150.679688 348.636719 L 150.601562 348.824219 \"/>\n",
       "<path style=\"fill:none;stroke-width:0.75;stroke-linecap:round;stroke-linejoin:round;stroke:rgb(66.27451%,66.27451%,66.27451%);stroke-opacity:1;stroke-miterlimit:10;\" d=\"M 215.28125 398.914062 L 215.148438 398.835938 L 214.308594 398.367188 L 212.402344 397.292969 L 209.476562 395.644531 L 205.917969 393.644531 L 202.203125 391.550781 L 198.679688 389.570312 L 195.507812 387.78125 L 192.695312 386.199219 L 190.167969 384.777344 L 187.816406 383.453125 L 185.84375 382.34375 L 183.558594 381.058594 L 181.191406 379.722656 L 178.632812 378.285156 L 175.773438 376.675781 L 172.546875 374.859375 L 168.984375 372.855469 L 165.265625 370.761719 L 161.765625 368.789062 L 158.960938 367.210938 L 157.207031 366.222656 L 156.496094 365.824219 L 156.40625 365.773438 \"/>\n",
       "<path style=\"fill:none;stroke-width:0.75;stroke-linecap:round;stroke-linejoin:round;stroke:rgb(66.27451%,66.27451%,66.27451%);stroke-opacity:1;stroke-miterlimit:10;\" d=\"M 189.839844 281.089844 L 189.988281 281.058594 L 190.894531 280.875 L 192.988281 280.449219 L 196.269531 279.777344 L 200.359375 278.941406 L 204.75 278.046875 L 209.019531 277.175781 L 212.929688 276.378906 L 216.421875 275.664062 L 219.546875 275.027344 L 222.414062 274.441406 L 225.140625 273.886719 L 226.40625 273.628906 L 229.105469 273.074219 L 231.890625 272.507812 L 234.882812 271.898438 L 238.191406 271.222656 L 241.90625 270.464844 L 246.019531 269.625 L 250.398438 268.730469 L 254.691406 267.855469 L 258.414062 267.09375 L 261.089844 266.546875 L 262.527344 266.253906 L 262.953125 266.167969 L 262.96875 266.164062 \"/>\n",
       "<path style=\"fill:none;stroke-width:0.75;stroke-linecap:round;stroke-linejoin:round;stroke:rgb(66.27451%,66.27451%,66.27451%);stroke-opacity:1;stroke-miterlimit:10;\" d=\"M 344.09375 303.136719 L 343.960938 303.0625 L 343.125 302.589844 L 341.222656 301.507812 L 338.300781 299.851562 L 334.75 297.835938 L 331.035156 295.726562 L 327.511719 293.726562 L 324.335938 291.921875 L 321.519531 290.324219 L 318.992188 288.890625 L 316.640625 287.554688 L 314.628906 286.414062 L 312.34375 285.117188 L 309.980469 283.773438 L 307.421875 282.320312 L 304.566406 280.703125 L 301.347656 278.875 L 297.785156 276.851562 L 294.070312 274.742188 L 290.566406 272.753906 L 287.753906 271.15625 L 285.980469 270.152344 L 285.257812 269.742188 L 285.164062 269.6875 \"/>\n",
       "<path style=\"fill-rule:nonzero;fill:rgb(90.196078%,62.352941%,0%);fill-opacity:1;stroke-width:0.75;stroke-linecap:round;stroke-linejoin:round;stroke:rgb(0%,0%,0%);stroke-opacity:1;stroke-miterlimit:10;\" d=\"M 438.398438 164.359375 C 438.398438 170.988281 433.027344 176.359375 426.398438 176.359375 C 419.773438 176.359375 414.398438 170.988281 414.398438 164.359375 C 414.398438 157.734375 419.773438 152.359375 426.398438 152.359375 C 433.027344 152.359375 438.398438 157.734375 438.398438 164.359375 \"/>\n",
       "<path style=\"fill-rule:nonzero;fill:rgb(90.196078%,62.352941%,0%);fill-opacity:1;stroke-width:0.75;stroke-linecap:round;stroke-linejoin:round;stroke:rgb(0%,0%,0%);stroke-opacity:1;stroke-miterlimit:10;\" d=\"M 192.765625 105.085938 C 192.765625 111.714844 187.394531 117.085938 180.765625 117.085938 C 174.136719 117.085938 168.765625 111.714844 168.765625 105.085938 C 168.765625 98.457031 174.136719 93.085938 180.765625 93.085938 C 187.394531 93.085938 192.765625 98.457031 192.765625 105.085938 \"/>\n",
       "<path style=\"fill-rule:nonzero;fill:rgb(90.196078%,62.352941%,0%);fill-opacity:1;stroke-width:0.75;stroke-linecap:round;stroke-linejoin:round;stroke:rgb(0%,0%,0%);stroke-opacity:1;stroke-miterlimit:10;\" d=\"M 190.082031 283.488281 C 190.082031 290.117188 184.710938 295.488281 178.082031 295.488281 C 171.457031 295.488281 166.082031 290.117188 166.082031 283.488281 C 166.082031 276.863281 171.457031 271.488281 178.082031 271.488281 C 184.710938 271.488281 190.082031 276.863281 190.082031 283.488281 \"/>\n",
       "<path style=\"fill-rule:nonzero;fill:rgb(90.196078%,62.352941%,0%);fill-opacity:1;stroke-width:0.75;stroke-linecap:round;stroke-linejoin:round;stroke:rgb(0%,0%,0%);stroke-opacity:1;stroke-miterlimit:10;\" d=\"M 237.738281 404.800781 C 237.738281 411.425781 232.367188 416.800781 225.738281 416.800781 C 219.113281 416.800781 213.738281 411.425781 213.738281 404.800781 C 213.738281 398.171875 219.113281 392.800781 225.738281 392.800781 C 232.367188 392.800781 237.738281 398.171875 237.738281 404.800781 \"/>\n",
       "<path style=\"fill-rule:nonzero;fill:rgb(90.196078%,62.352941%,0%);fill-opacity:1;stroke-width:0.75;stroke-linecap:round;stroke-linejoin:round;stroke:rgb(0%,0%,0%);stroke-opacity:1;stroke-miterlimit:10;\" d=\"M 366.53125 309.0625 C 366.53125 315.691406 361.15625 321.0625 354.53125 321.0625 C 347.902344 321.0625 342.53125 315.691406 342.53125 309.0625 C 342.53125 302.433594 347.902344 297.0625 354.53125 297.0625 C 361.15625 297.0625 366.53125 302.433594 366.53125 309.0625 \"/>\n",
       "<path style=\"fill-rule:nonzero;fill:rgb(90.196078%,62.352941%,0%);fill-opacity:1;stroke-width:0.75;stroke-linecap:round;stroke-linejoin:round;stroke:rgb(0%,0%,0%);stroke-opacity:1;stroke-miterlimit:10;\" d=\"M 273.527344 84.800781 C 273.527344 91.425781 268.15625 96.800781 261.527344 96.800781 C 254.902344 96.800781 249.527344 91.425781 249.527344 84.800781 C 249.527344 78.171875 254.902344 72.800781 261.527344 72.800781 C 268.15625 72.800781 273.527344 78.171875 273.527344 84.800781 \"/>\n",
       "<path style=\"fill-rule:nonzero;fill:rgb(90.196078%,62.352941%,0%);fill-opacity:1;stroke-width:0.75;stroke-linecap:round;stroke-linejoin:round;stroke:rgb(0%,0%,0%);stroke-opacity:1;stroke-miterlimit:10;\" d=\"M 118.398438 141.292969 C 118.398438 147.917969 113.027344 153.292969 106.398438 153.292969 C 99.773438 153.292969 94.398438 147.917969 94.398438 141.292969 C 94.398438 134.664062 99.773438 129.292969 106.398438 129.292969 C 113.027344 129.292969 118.398438 134.664062 118.398438 141.292969 \"/>\n",
       "<path style=\"fill-rule:nonzero;fill:rgb(90.196078%,62.352941%,0%);fill-opacity:1;stroke-width:0.75;stroke-linecap:round;stroke-linejoin:round;stroke:rgb(0%,0%,0%);stroke-opacity:1;stroke-miterlimit:10;\" d=\"M 331.886719 386.0625 C 331.886719 392.691406 326.511719 398.0625 319.886719 398.0625 C 313.257812 398.0625 307.886719 392.691406 307.886719 386.0625 C 307.886719 379.433594 313.257812 374.0625 319.886719 374.0625 C 326.511719 374.0625 331.886719 379.433594 331.886719 386.0625 \"/>\n",
       "<path style=\"fill-rule:nonzero;fill:rgb(90.196078%,62.352941%,0%);fill-opacity:1;stroke-width:0.75;stroke-linecap:round;stroke-linejoin:round;stroke:rgb(0%,0%,0%);stroke-opacity:1;stroke-miterlimit:10;\" d=\"M 157.949219 359.886719 C 157.949219 366.515625 152.578125 371.886719 145.949219 371.886719 C 139.320312 371.886719 133.949219 366.515625 133.949219 359.886719 C 133.949219 353.261719 139.320312 347.886719 145.949219 347.886719 C 152.578125 347.886719 157.949219 353.261719 157.949219 359.886719 \"/>\n",
       "<path style=\"fill-rule:nonzero;fill:rgb(90.196078%,62.352941%,0%);fill-opacity:1;stroke-width:0.75;stroke-linecap:round;stroke-linejoin:round;stroke:rgb(0%,0%,0%);stroke-opacity:1;stroke-miterlimit:10;\" d=\"M 286.726562 263.765625 C 286.726562 270.390625 281.355469 275.765625 274.726562 275.765625 C 268.101562 275.765625 262.726562 270.390625 262.726562 263.765625 C 262.726562 257.136719 268.101562 251.765625 274.726562 251.765625 C 281.355469 251.765625 286.726562 257.136719 286.726562 263.765625 \"/>\n",
       "<g style=\"fill:rgb(0%,0%,54.509804%);fill-opacity:1;\">\n",
       "  <use xlink:href=\"#glyph0-1\" x=\"383.734375\" y=\"167.554688\"/>\n",
       "  <use xlink:href=\"#glyph0-2\" x=\"390.408203\" y=\"167.554688\"/>\n",
       "  <use xlink:href=\"#glyph0-3\" x=\"397.738281\" y=\"167.554688\"/>\n",
       "  <use xlink:href=\"#glyph0-4\" x=\"406.404297\" y=\"167.554688\"/>\n",
       "  <use xlink:href=\"#glyph0-5\" x=\"415.070312\" y=\"167.554688\"/>\n",
       "  <use xlink:href=\"#glyph0-6\" x=\"422.400391\" y=\"167.554688\"/>\n",
       "  <use xlink:href=\"#glyph0-7\" x=\"431.066406\" y=\"167.554688\"/>\n",
       "  <use xlink:href=\"#glyph0-8\" x=\"434.066406\" y=\"167.554688\"/>\n",
       "  <use xlink:href=\"#glyph0-2\" x=\"437.066406\" y=\"167.554688\"/>\n",
       "  <use xlink:href=\"#glyph0-9\" x=\"444.396484\" y=\"167.554688\"/>\n",
       "  <use xlink:href=\"#glyph0-10\" x=\"453.0625\" y=\"167.554688\"/>\n",
       "  <use xlink:href=\"#glyph0-2\" x=\"461.728516\" y=\"167.554688\"/>\n",
       "</g>\n",
       "<g style=\"fill:rgb(0%,0%,54.509804%);fill-opacity:1;\">\n",
       "  <use xlink:href=\"#glyph0-11\" x=\"150.761719\" y=\"108.28125\"/>\n",
       "  <use xlink:href=\"#glyph0-12\" x=\"157.435547\" y=\"108.28125\"/>\n",
       "  <use xlink:href=\"#glyph0-13\" x=\"161.431641\" y=\"108.28125\"/>\n",
       "  <use xlink:href=\"#glyph0-14\" x=\"168.761719\" y=\"108.28125\"/>\n",
       "  <use xlink:href=\"#glyph0-12\" x=\"177.427734\" y=\"108.28125\"/>\n",
       "  <use xlink:href=\"#glyph0-1\" x=\"181.423828\" y=\"108.28125\"/>\n",
       "  <use xlink:href=\"#glyph0-7\" x=\"188.097656\" y=\"108.28125\"/>\n",
       "  <use xlink:href=\"#glyph0-8\" x=\"191.097656\" y=\"108.28125\"/>\n",
       "  <use xlink:href=\"#glyph0-15\" x=\"194.097656\" y=\"108.28125\"/>\n",
       "  <use xlink:href=\"#glyph0-3\" x=\"202.101562\" y=\"108.28125\"/>\n",
       "</g>\n",
       "<g style=\"fill:rgb(0%,0%,54.509804%);fill-opacity:1;\">\n",
       "  <use xlink:href=\"#glyph0-1\" x=\"141.75\" y=\"286.683594\"/>\n",
       "  <use xlink:href=\"#glyph0-16\" x=\"148.423828\" y=\"286.683594\"/>\n",
       "  <use xlink:href=\"#glyph0-3\" x=\"159.75\" y=\"286.683594\"/>\n",
       "  <use xlink:href=\"#glyph0-15\" x=\"168.416016\" y=\"286.683594\"/>\n",
       "  <use xlink:href=\"#glyph0-2\" x=\"176.419922\" y=\"286.683594\"/>\n",
       "  <use xlink:href=\"#glyph0-17\" x=\"183.75\" y=\"286.683594\"/>\n",
       "  <use xlink:href=\"#glyph0-7\" x=\"191.080078\" y=\"286.683594\"/>\n",
       "  <use xlink:href=\"#glyph0-8\" x=\"194.080078\" y=\"286.683594\"/>\n",
       "  <use xlink:href=\"#glyph0-14\" x=\"197.080078\" y=\"286.683594\"/>\n",
       "  <use xlink:href=\"#glyph0-3\" x=\"205.746094\" y=\"286.683594\"/>\n",
       "</g>\n",
       "<g style=\"fill:rgb(0%,0%,54.509804%);fill-opacity:1;\">\n",
       "  <use xlink:href=\"#glyph0-18\" x=\"183.726562\" y=\"407.996094\"/>\n",
       "  <use xlink:href=\"#glyph0-3\" x=\"192.392578\" y=\"407.996094\"/>\n",
       "  <use xlink:href=\"#glyph0-15\" x=\"201.058594\" y=\"407.996094\"/>\n",
       "  <use xlink:href=\"#glyph0-9\" x=\"209.0625\" y=\"407.996094\"/>\n",
       "  <use xlink:href=\"#glyph0-4\" x=\"217.728516\" y=\"407.996094\"/>\n",
       "  <use xlink:href=\"#glyph0-5\" x=\"226.394531\" y=\"407.996094\"/>\n",
       "  <use xlink:href=\"#glyph0-1\" x=\"233.724609\" y=\"407.996094\"/>\n",
       "  <use xlink:href=\"#glyph0-1\" x=\"240.398438\" y=\"407.996094\"/>\n",
       "  <use xlink:href=\"#glyph0-7\" x=\"247.072266\" y=\"407.996094\"/>\n",
       "  <use xlink:href=\"#glyph0-8\" x=\"250.072266\" y=\"407.996094\"/>\n",
       "  <use xlink:href=\"#glyph0-15\" x=\"253.072266\" y=\"407.996094\"/>\n",
       "  <use xlink:href=\"#glyph0-11\" x=\"261.076172\" y=\"407.996094\"/>\n",
       "</g>\n",
       "<g style=\"fill:rgb(0%,0%,54.509804%);fill-opacity:1;\">\n",
       "  <use xlink:href=\"#glyph0-1\" x=\"303.863281\" y=\"312.257812\"/>\n",
       "  <use xlink:href=\"#glyph0-19\" x=\"310.537109\" y=\"312.257812\"/>\n",
       "  <use xlink:href=\"#glyph0-2\" x=\"319.203125\" y=\"312.257812\"/>\n",
       "  <use xlink:href=\"#glyph0-18\" x=\"326.533203\" y=\"312.257812\"/>\n",
       "  <use xlink:href=\"#glyph0-5\" x=\"335.199219\" y=\"312.257812\"/>\n",
       "  <use xlink:href=\"#glyph0-15\" x=\"342.529297\" y=\"312.257812\"/>\n",
       "  <use xlink:href=\"#glyph0-13\" x=\"350.533203\" y=\"312.257812\"/>\n",
       "  <use xlink:href=\"#glyph0-3\" x=\"357.863281\" y=\"312.257812\"/>\n",
       "  <use xlink:href=\"#glyph0-4\" x=\"366.529297\" y=\"312.257812\"/>\n",
       "  <use xlink:href=\"#glyph0-14\" x=\"375.195312\" y=\"312.257812\"/>\n",
       "  <use xlink:href=\"#glyph0-7\" x=\"383.861328\" y=\"312.257812\"/>\n",
       "  <use xlink:href=\"#glyph0-8\" x=\"386.861328\" y=\"312.257812\"/>\n",
       "  <use xlink:href=\"#glyph0-11\" x=\"389.861328\" y=\"312.257812\"/>\n",
       "  <use xlink:href=\"#glyph0-10\" x=\"396.535156\" y=\"312.257812\"/>\n",
       "</g>\n",
       "<g style=\"fill:rgb(0%,0%,54.509804%);fill-opacity:1;\">\n",
       "  <use xlink:href=\"#glyph0-10\" x=\"225.863281\" y=\"87.996094\"/>\n",
       "  <use xlink:href=\"#glyph0-20\" x=\"234.529297\" y=\"87.996094\"/>\n",
       "  <use xlink:href=\"#glyph0-13\" x=\"243.195312\" y=\"87.996094\"/>\n",
       "  <use xlink:href=\"#glyph0-14\" x=\"250.525391\" y=\"87.996094\"/>\n",
       "  <use xlink:href=\"#glyph0-21\" x=\"259.191406\" y=\"87.996094\"/>\n",
       "  <use xlink:href=\"#glyph0-3\" x=\"269.861328\" y=\"87.996094\"/>\n",
       "  <use xlink:href=\"#glyph0-4\" x=\"278.527344\" y=\"87.996094\"/>\n",
       "  <use xlink:href=\"#glyph0-7\" x=\"287.193359\" y=\"87.996094\"/>\n",
       "  <use xlink:href=\"#glyph0-8\" x=\"290.193359\" y=\"87.996094\"/>\n",
       "  <use xlink:href=\"#glyph0-12\" x=\"293.193359\" y=\"87.996094\"/>\n",
       "</g>\n",
       "<g style=\"fill:rgb(0%,0%,54.509804%);fill-opacity:1;\">\n",
       "  <use xlink:href=\"#glyph0-22\" x=\"66.726562\" y=\"144.472656\"/>\n",
       "  <use xlink:href=\"#glyph0-15\" x=\"74.730469\" y=\"144.472656\"/>\n",
       "  <use xlink:href=\"#glyph0-5\" x=\"82.734375\" y=\"144.472656\"/>\n",
       "  <use xlink:href=\"#glyph0-10\" x=\"90.064453\" y=\"144.472656\"/>\n",
       "  <use xlink:href=\"#glyph0-21\" x=\"98.730469\" y=\"144.472656\"/>\n",
       "  <use xlink:href=\"#glyph0-3\" x=\"109.400391\" y=\"144.472656\"/>\n",
       "  <use xlink:href=\"#glyph0-4\" x=\"118.066406\" y=\"144.472656\"/>\n",
       "  <use xlink:href=\"#glyph0-7\" x=\"126.732422\" y=\"144.472656\"/>\n",
       "  <use xlink:href=\"#glyph0-8\" x=\"129.732422\" y=\"144.472656\"/>\n",
       "  <use xlink:href=\"#glyph0-23\" x=\"132.732422\" y=\"144.472656\"/>\n",
       "  <use xlink:href=\"#glyph0-4\" x=\"137.402344\" y=\"144.472656\"/>\n",
       "</g>\n",
       "<g style=\"fill:rgb(0%,0%,54.509804%);fill-opacity:1;\">\n",
       "  <use xlink:href=\"#glyph0-16\" x=\"286.5625\" y=\"389.242188\"/>\n",
       "  <use xlink:href=\"#glyph0-3\" x=\"297.888672\" y=\"389.242188\"/>\n",
       "  <use xlink:href=\"#glyph0-4\" x=\"306.554688\" y=\"389.242188\"/>\n",
       "  <use xlink:href=\"#glyph0-14\" x=\"315.220703\" y=\"389.242188\"/>\n",
       "  <use xlink:href=\"#glyph0-5\" x=\"323.886719\" y=\"389.242188\"/>\n",
       "  <use xlink:href=\"#glyph0-13\" x=\"331.216797\" y=\"389.242188\"/>\n",
       "  <use xlink:href=\"#glyph0-7\" x=\"338.546875\" y=\"389.242188\"/>\n",
       "  <use xlink:href=\"#glyph0-8\" x=\"341.546875\" y=\"389.242188\"/>\n",
       "  <use xlink:href=\"#glyph0-3\" x=\"344.546875\" y=\"389.242188\"/>\n",
       "</g>\n",
       "<g style=\"fill:rgb(0%,0%,54.509804%);fill-opacity:1;\">\n",
       "  <use xlink:href=\"#glyph0-22\" x=\"103.945312\" y=\"363.066406\"/>\n",
       "  <use xlink:href=\"#glyph0-12\" x=\"111.949219\" y=\"363.066406\"/>\n",
       "  <use xlink:href=\"#glyph0-5\" x=\"115.945312\" y=\"363.066406\"/>\n",
       "  <use xlink:href=\"#glyph0-15\" x=\"123.275391\" y=\"363.066406\"/>\n",
       "  <use xlink:href=\"#glyph0-21\" x=\"131.279297\" y=\"363.066406\"/>\n",
       "  <use xlink:href=\"#glyph0-3\" x=\"141.949219\" y=\"363.066406\"/>\n",
       "  <use xlink:href=\"#glyph0-4\" x=\"150.615234\" y=\"363.066406\"/>\n",
       "  <use xlink:href=\"#glyph0-4\" x=\"159.28125\" y=\"363.066406\"/>\n",
       "  <use xlink:href=\"#glyph0-7\" x=\"167.947266\" y=\"363.066406\"/>\n",
       "  <use xlink:href=\"#glyph0-8\" x=\"170.947266\" y=\"363.066406\"/>\n",
       "  <use xlink:href=\"#glyph0-11\" x=\"173.947266\" y=\"363.066406\"/>\n",
       "  <use xlink:href=\"#glyph0-13\" x=\"180.621094\" y=\"363.066406\"/>\n",
       "</g>\n",
       "<g style=\"fill:rgb(0%,0%,54.509804%);fill-opacity:1;\">\n",
       "  <use xlink:href=\"#glyph0-5\" x=\"239.0625\" y=\"266.945312\"/>\n",
       "  <use xlink:href=\"#glyph0-6\" x=\"246.392578\" y=\"266.945312\"/>\n",
       "  <use xlink:href=\"#glyph0-15\" x=\"255.058594\" y=\"266.945312\"/>\n",
       "  <use xlink:href=\"#glyph0-3\" x=\"263.0625\" y=\"266.945312\"/>\n",
       "  <use xlink:href=\"#glyph0-15\" x=\"271.728516\" y=\"266.945312\"/>\n",
       "  <use xlink:href=\"#glyph0-14\" x=\"279.732422\" y=\"266.945312\"/>\n",
       "  <use xlink:href=\"#glyph0-7\" x=\"288.398438\" y=\"266.945312\"/>\n",
       "  <use xlink:href=\"#glyph0-8\" x=\"291.398438\" y=\"266.945312\"/>\n",
       "  <use xlink:href=\"#glyph0-3\" x=\"294.398438\" y=\"266.945312\"/>\n",
       "  <use xlink:href=\"#glyph0-5\" x=\"303.064453\" y=\"266.945312\"/>\n",
       "</g>\n",
       "</g>\n",
       "</svg>\n"
      ],
      "text/plain": [
       "Plot with title “”"
      ]
     },
     "metadata": {
      "image/svg+xml": {
       "isolated": true
      }
     },
     "output_type": "display_data"
    }
   ],
   "source": [
    "plot(try)"
   ]
  },
  {
   "cell_type": "code",
   "execution_count": 62,
   "metadata": {
    "collapsed": false
   },
   "outputs": [
    {
     "data": {
      "text/html": [
       "<dl class=dl-horizontal>\n",
       "\t<dt>STANEV, TKGT</dt>\n",
       "\t\t<dd>0</dd>\n",
       "\t<dt>PILDIS, RA</dt>\n",
       "\t\t<dd>2</dd>\n",
       "\t<dt>SWARTZ, DA</dt>\n",
       "\t\t<dd>2</dd>\n",
       "\t<dt>HARKNESS, RP</dt>\n",
       "\t\t<dd>2</dd>\n",
       "\t<dt>SUTHERLAND, PG</dt>\n",
       "\t\t<dd>2</dd>\n",
       "\t<dt>GOLDMAN, I</dt>\n",
       "\t\t<dd>1</dd>\n",
       "\t<dt>BREGMAN, JN</dt>\n",
       "\t\t<dd>1</dd>\n",
       "\t<dt>WANDEL, A</dt>\n",
       "\t\t<dd>2</dd>\n",
       "\t<dt>BIERMANN, PL</dt>\n",
       "\t\t<dd>2</dd>\n",
       "\t<dt>EVRARD, AE</dt>\n",
       "\t\t<dd>2</dd>\n",
       "</dl>\n"
      ],
      "text/latex": [
       "\\begin{description*}\n",
       "\\item[STANEV, TKGT] 0\n",
       "\\item[PILDIS, RA] 2\n",
       "\\item[SWARTZ, DA] 2\n",
       "\\item[HARKNESS, RP] 2\n",
       "\\item[SUTHERLAND, PG] 2\n",
       "\\item[GOLDMAN, I] 1\n",
       "\\item[BREGMAN, JN] 1\n",
       "\\item[WANDEL, A] 2\n",
       "\\item[BIERMANN, PL] 2\n",
       "\\item[EVRARD, AE] 2\n",
       "\\end{description*}\n"
      ],
      "text/markdown": [
       "STANEV, TKGT\n",
       ":   0PILDIS, RA\n",
       ":   2SWARTZ, DA\n",
       ":   2HARKNESS, RP\n",
       ":   2SUTHERLAND, PG\n",
       ":   2GOLDMAN, I\n",
       ":   1BREGMAN, JN\n",
       ":   1WANDEL, A\n",
       ":   2BIERMANN, PL\n",
       ":   2EVRARD, AE\n",
       ":   2\n",
       "\n"
      ],
      "text/plain": [
       "  STANEV, TKGT     PILDIS, RA     SWARTZ, DA   HARKNESS, RP SUTHERLAND, PG \n",
       "             0              2              2              2              2 \n",
       "    GOLDMAN, I    BREGMAN, JN      WANDEL, A   BIERMANN, PL     EVRARD, AE \n",
       "             1              1              2              2              2 "
      ]
     },
     "execution_count": 62,
     "metadata": {},
     "output_type": "execute_result"
    }
   ],
   "source": [
    "degree(try)"
   ]
  },
  {
   "cell_type": "markdown",
   "metadata": {},
   "source": [
    "*********************************************************************************************************************"
   ]
  },
  {
   "cell_type": "markdown",
   "metadata": {},
   "source": [
    "## Function used to convert to sample of igraph"
   ]
  },
  {
   "cell_type": "code",
   "execution_count": 31,
   "metadata": {
    "collapsed": true
   },
   "outputs": [],
   "source": [
    "uConverter <- function (obj, from=c(\"dgCMatrix\",\"igraph\"), to=c(\"igraph\",\"dgCMatrix\"), verbose=TRUE)\n",
    "{\n",
    "    \n",
    "    from <- match.arg(from)\n",
    "    to <- match.arg(to)\n",
    "    \n",
    "    if (class(obj) != from){\n",
    "        stop(sprintf(\"The class of your input object '%s' is '%s', mismatched as you intended (from='%s').\\n\", deparse(substitute(obj)), class(obj), from))\n",
    "    }\n",
    "    \n",
    "    if(from!=\"igraph\" & to!=\"igraph\"){\n",
    "        stop(sprintf(\"Conversion between '%s' and '%s' is not supported.\\n\", from, to))\n",
    "    }\n",
    "    \n",
    "    if(from==to){\n",
    "        warnings(sprintf(\"Since the class '%s' converted from is the same as the class '%s' converted to, it will return exactly what you input.\\n\", from, to))\n",
    "        return(obj)\n",
    "    }\n",
    "    \n",
    "    if(from==\"igraph\"){\n",
    "        \n",
    "        ## get node data frame\n",
    "        data <- igraph::get.data.frame(obj, what=\"vertices\")\n",
    "        \n",
    "        ## get adjacency matrix\n",
    "        if (\"weight\" %in% list.edge.attributes(obj)){\n",
    "            objConverted <- igraph::get.adjacency(obj, type=\"both\", attr=\"weight\", edges=F, names=T, sparse=getIgraphOpt(\"sparsematrices\"))\n",
    "        }else{\n",
    "            objConverted <- igraph::get.adjacency(obj, type=\"both\", attr=NULL, edges=F, names=T, sparse=getIgraphOpt(\"sparsematrices\"))\n",
    "        }\n",
    "        \n",
    "    }else if(from==\"dgCMatrix\"){\n",
    "        \n",
    "        ## node info\n",
    "        nodes <- data.frame(name=rownames(obj))\n",
    "        nodenames <- rownames(obj)\n",
    "        \n",
    "        ## adjacency matrix\n",
    "        adjM <- obj\n",
    "        tmp <- which(as.matrix(adjM!=0), arr.ind=T)\n",
    "        \n",
    "        ## un-direct graph\n",
    "        if(from==\"dgCMatrix\"){\n",
    "            tmp <- tmp[tmp[,1]<tmp[,2],]\n",
    "        }\n",
    "        \n",
    "        ## weighted or not\n",
    "        weight_flag <- T\n",
    "        if(all(adjM[tmp]==1))\n",
    "        {weight_flag <- F\n",
    "        }\n",
    "        if(weight_flag){\n",
    "            relations <- data.frame(from=nodenames[tmp[,1]], to=nodenames[tmp[,2]], weight=adjM[tmp])\n",
    "        }else{\n",
    "            relations <- data.frame(from=nodenames[tmp[,1]], to=nodenames[tmp[,2]])\n",
    "        }\n",
    "        \n",
    "        ## convert to \"igraph\"\n",
    "        if(from==\"dgCMatrix\"){\n",
    "            objConverted <- igraph::graph.data.frame(d=relations, directed=F, vertices=nodes)\n",
    "        }\n",
    "        \n",
    "    }\n",
    "    \n",
    "    if(verbose){\n",
    "        message(sprintf(\"Your input object '%s' of class '%s' has been converted into an object of class '%s'.\", deparse(substitute(obj)), from, to), appendLF=T)\n",
    "    }\n",
    "    \n",
    "    return(objConverted)\n",
    "}"
   ]
  }
 ],
 "metadata": {
  "kernelspec": {
   "display_name": "R",
   "language": "R",
   "name": "ir"
  },
  "language_info": {
   "codemirror_mode": "r",
   "file_extension": ".r",
   "mimetype": "text/x-r-source",
   "name": "R",
   "pygments_lexer": "r",
   "version": "3.2.3"
  }
 },
 "nbformat": 4,
 "nbformat_minor": 0
}
