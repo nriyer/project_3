{
 "cells": [
  {
   "cell_type": "markdown",
   "metadata": {},
   "source": [
    "## Project 1 \n",
    "#### Sam Dooley, Rachel Jordan, Nisha Iyer"
   ]
  },
  {
   "cell_type": "markdown",
   "metadata": {},
   "source": [
    "## 1. Data Set: astrocollab.RData (on Blackboard)\n",
    "Co-authorship network between scientists posting preprints on the Astrophysics E-Print archive.\n",
    "\n",
    "Data accessed and loaded.\n"
   ]
  },
  {
   "cell_type": "markdown",
   "metadata": {},
   "source": [
    "## 2. Install the igraph package from one of the CRAN mirrors or you may load the zip file from the Blackboard"
   ]
  },
  {
   "cell_type": "code",
   "execution_count": 2,
   "metadata": {
    "collapsed": false
   },
   "outputs": [
    {
     "name": "stderr",
     "output_type": "stream",
     "text": [
      "\n",
      "Attaching package: ‘igraph’\n",
      "\n",
      "The following objects are masked from ‘package:stats’:\n",
      "\n",
      "    decompose, spectrum\n",
      "\n",
      "The following object is masked from ‘package:base’:\n",
      "\n",
      "    union\n",
      "\n"
     ]
    }
   ],
   "source": [
    "library(igraph)"
   ]
  },
  {
   "cell_type": "code",
   "execution_count": 3,
   "metadata": {
    "collapsed": true
   },
   "outputs": [],
   "source": [
    "load(\"~/Downloads/astrocollab.Rdata\")"
   ]
  },
  {
   "cell_type": "code",
   "execution_count": 4,
   "metadata": {
    "collapsed": false
   },
   "outputs": [
    {
     "name": "stdout",
     "output_type": "stream",
     "text": [
      "IGRAPH UNW- 16706 121251 -- Astrophysics collaborations\n",
      "+ attr: name (g/c), Author (g/c), Citation (g/c), URL (g/c),\n",
      "| Description (g/c), name (v/c), weight (e/n)\n"
     ]
    }
   ],
   "source": [
    "summary(astrocollab)"
   ]
  },
  {
   "cell_type": "markdown",
   "metadata": {},
   "source": [
    "## 3. Experiment with some of the functions that I have shown in the associated PPT file on Blackboard. Present the results in your writeup."
   ]
  },
  {
   "cell_type": "markdown",
   "metadata": {},
   "source": [
    "#### 1. Find the verticies"
   ]
  },
  {
   "cell_type": "code",
   "execution_count": null,
   "metadata": {
    "collapsed": true
   },
   "outputs": [],
   "source": [
    "V(astrocollab) \n",
    "#captures the vertices in order \n",
    "#16706/16706 vertices"
   ]
  },
  {
   "cell_type": "markdown",
   "metadata": {},
   "source": [
    "#### 2. Upgrade astrocollab"
   ]
  },
  {
   "cell_type": "code",
   "execution_count": 5,
   "metadata": {
    "collapsed": false
   },
   "outputs": [
    {
     "data": {
      "text/plain": [
       "IGRAPH UNW- 16706 121251 -- Astrophysics collaborations\n",
       "+ attr: name (g/c), Author (g/c), Citation (g/c), URL (g/c),\n",
       "| Description (g/c), name (v/c), weight (e/n)\n",
       "+ edges (vertex names):\n",
       " [1] BIERMANN, PL  --STANEV, TKGT   GOLDMAN, I    --WANDEL, A     \n",
       " [3] PILDIS, RA    --BREGMAN, JN    PILDIS, RA    --EVRARD, AE    \n",
       " [5] BREGMAN, JN   --EVRARD, AE     SWARTZ, DA    --SUTHERLAND, PG\n",
       " [7] SWARTZ, DA    --HARKNESS, RP   SUTHERLAND, PG--HARKNESS, RP  \n",
       " [9] BECKER, W     --BARZIER, KTS   BECKER, W     --TRUEMPER, J   \n",
       "[11] BARZIER, KTS  --TRUEMPER, J    ANGELANTONJ, C--AMENDOLA, L   \n",
       "[13] ANGELANTONJ, C--LITTERIO, M    AMENDOLA, L   --LITTERIO, M   \n",
       "+ ... omitted several edges"
      ]
     },
     "execution_count": 5,
     "metadata": {},
     "output_type": "execute_result"
    }
   ],
   "source": [
    "upgrade_graph(astrocollab)\n",
    "#make astrocollab easier to work with"
   ]
  },
  {
   "cell_type": "markdown",
   "metadata": {},
   "source": [
    "#### 3. Build adjacency matrix"
   ]
  },
  {
   "cell_type": "code",
   "execution_count": null,
   "metadata": {
    "collapsed": true
   },
   "outputs": [],
   "source": [
    "adjmatrix = as_adjacency_matrix(myastro) \n",
    "#adjacency matrix"
   ]
  },
  {
   "cell_type": "markdown",
   "metadata": {},
   "source": [
    "#### 4. Plot myastro - name of upgraded graph"
   ]
  },
  {
   "cell_type": "code",
   "execution_count": null,
   "metadata": {
    "collapsed": true
   },
   "outputs": [],
   "source": [
    "myastro = upgrade_graph(astrocollab)\n",
    "plot(myastro)"
   ]
  },
  {
   "cell_type": "markdown",
   "metadata": {},
   "source": [
    "Above, this gives us the number of degrees which will the sum of in and out degrees for each node.\n",
    "\n",
    "Please see Appendix - Graph 1.1"
   ]
  },
  {
   "cell_type": "markdown",
   "metadata": {},
   "source": [
    "#### 5. Next, I want to try the using the walktrap function which tries to find the connected subgraphs, called communities, in a graph via random walks"
   ]
  },
  {
   "cell_type": "code",
   "execution_count": null,
   "metadata": {
    "collapsed": true
   },
   "outputs": [],
   "source": [
    "wc <- walktrap.community(astroNew)"
   ]
  },
  {
   "cell_type": "code",
   "execution_count": null,
   "metadata": {
    "collapsed": true
   },
   "outputs": [],
   "source": [
    "wc\n",
    "plot(wc,astronew, vertex.size = .5, layout=layout.fruchterman.reingold)"
   ]
  },
  {
   "cell_type": "markdown",
   "metadata": {},
   "source": [
    "Please see Appendix - Graph 1.2"
   ]
  },
  {
   "cell_type": "markdown",
   "metadata": {},
   "source": [
    "## 4. Explore other functions in the igraph package – at least 10 of them. You may have to do a little programming in R. There are numerous books posted on the Blackboard."
   ]
  },
  {
   "cell_type": "markdown",
   "metadata": {},
   "source": [
    "For the purpose of running the functions, we used a sample dataset:"
   ]
  },
  {
   "cell_type": "code",
   "execution_count": 6,
   "metadata": {
    "collapsed": false
   },
   "outputs": [
    {
     "name": "stderr",
     "output_type": "stream",
     "text": [
      "This graph was created by an old(er) igraph version.\n",
      "  Call upgrade_graph() on it to use with the current igraph version\n",
      "  For now we convert it on the fly...\n",
      "This graph was created by an old(er) igraph version.\n",
      "  Call upgrade_graph() on it to use with the current igraph version\n",
      "  For now we convert it on the fly...\n",
      "Warning message:\n",
      "In parse_op_args(..., what = \"a vertex\", is_fun = is_igraph_vs, : Combining vertex/edge sequences from different graphs.\n",
      "This will not work in future igraph versionsThis graph was created by an old(er) igraph version.\n",
      "  Call upgrade_graph() on it to use with the current igraph version\n",
      "  For now we convert it on the fly...\n"
     ]
    },
    {
     "data": {
      "text/plain": [
       "+ 1/16706 vertex, named:\n",
       "[1] STANGA, RM"
      ]
     },
     "execution_count": 6,
     "metadata": {},
     "output_type": "execute_result"
    },
    {
     "name": "stderr",
     "output_type": "stream",
     "text": [
      "Warning message:\n",
      "In parse_op_args(..., what = \"a vertex\", is_fun = is_igraph_vs, : Combining vertex/edge sequences from different graphs.\n",
      "This will not work in future igraph versionsThis graph was created by an old(er) igraph version.\n",
      "  Call upgrade_graph() on it to use with the current igraph version\n",
      "  For now we convert it on the fly...\n",
      "This graph was created by an old(er) igraph version.\n",
      "  Call upgrade_graph() on it to use with the current igraph version\n",
      "  For now we convert it on the fly...\n"
     ]
    }
   ],
   "source": [
    "astroSeq <- V(astrocollab)\n",
    "astroSeq[51]\n",
    "astroNew <-astrocollab - astroSeq[51:16706]"
   ]
  },
  {
   "cell_type": "code",
   "execution_count": null,
   "metadata": {
    "collapsed": true
   },
   "outputs": [],
   "source": [
    "plot(astroNew)"
   ]
  },
  {
   "cell_type": "markdown",
   "metadata": {},
   "source": [
    "Please see Appendix graph 1.3 for the plot(astroNew) graph"
   ]
  },
  {
   "cell_type": "markdown",
   "metadata": {},
   "source": [
    "**Function 1:\n",
    "degree(graph, v = V(graph), mode = c(\"all\", \"out\", \"in\", \"total\"), loops = TRUE, normalized\n",
    "= FALSE)**"
   ]
  },
  {
   "cell_type": "markdown",
   "metadata": {},
   "source": [
    "This is a function that takes a graph as input and outputs an array of all the graph’s vertices with\n",
    "each one’s corresponding degree. The degree of a vertices is its number of ‘neighbors,’ i.e., how many\n",
    "places can one go from a given node while traversing this graph. For example:"
   ]
  },
  {
   "cell_type": "code",
   "execution_count": 9,
   "metadata": {
    "collapsed": false
   },
   "outputs": [
    {
     "name": "stderr",
     "output_type": "stream",
     "text": [
      "This graph was created by an old(er) igraph version.\n",
      "  Call upgrade_graph() on it to use with the current igraph version\n",
      "  For now we convert it on the fly...\n",
      "This graph was created by an old(er) igraph version.\n",
      "  Call upgrade_graph() on it to use with the current igraph version\n",
      "  For now we convert it on the fly...\n",
      "This graph was created by an old(er) igraph version.\n",
      "  Call upgrade_graph() on it to use with the current igraph version\n",
      "  For now we convert it on the fly...\n",
      "This graph was created by an old(er) igraph version.\n",
      "  Call upgrade_graph() on it to use with the current igraph version\n",
      "  For now we convert it on the fly...\n",
      "This graph was created by an old(er) igraph version.\n",
      "  Call upgrade_graph() on it to use with the current igraph version\n",
      "  For now we convert it on the fly...\n",
      "This graph was created by an old(er) igraph version.\n",
      "  Call upgrade_graph() on it to use with the current igraph version\n",
      "  For now we convert it on the fly...\n"
     ]
    },
    {
     "data": {
      "text/html": [
       "<dl class=dl-horizontal>\n",
       "\t<dt>BIERMANN, PL</dt>\n",
       "\t\t<dd>36</dd>\n",
       "\t<dt>STANEV, TKGT</dt>\n",
       "\t\t<dd>1</dd>\n",
       "\t<dt>GOLDMAN, I</dt>\n",
       "\t\t<dd>5</dd>\n",
       "\t<dt>WANDEL, A</dt>\n",
       "\t\t<dd>4</dd>\n",
       "\t<dt>PILDIS, RA</dt>\n",
       "\t\t<dd>16</dd>\n",
       "\t<dt>BREGMAN, JN</dt>\n",
       "\t\t<dd>17</dd>\n",
       "</dl>\n"
      ],
      "text/latex": [
       "\\begin{description*}\n",
       "\\item[BIERMANN, PL] 36\n",
       "\\item[STANEV, TKGT] 1\n",
       "\\item[GOLDMAN, I] 5\n",
       "\\item[WANDEL, A] 4\n",
       "\\item[PILDIS, RA] 16\n",
       "\\item[BREGMAN, JN] 17\n",
       "\\end{description*}\n"
      ],
      "text/markdown": [
       "BIERMANN, PL\n",
       ":   36STANEV, TKGT\n",
       ":   1GOLDMAN, I\n",
       ":   5WANDEL, A\n",
       ":   4PILDIS, RA\n",
       ":   16BREGMAN, JN\n",
       ":   17\n",
       "\n"
      ],
      "text/plain": [
       "BIERMANN, PL STANEV, TKGT   GOLDMAN, I    WANDEL, A   PILDIS, RA  BREGMAN, JN \n",
       "          36            1            5            4           16           17 "
      ]
     },
     "execution_count": 9,
     "metadata": {},
     "output_type": "execute_result"
    }
   ],
   "source": [
    "head(degree(astrocollab))"
   ]
  },
  {
   "cell_type": "markdown",
   "metadata": {},
   "source": [
    "This array is ordered as the array of vertices is ordered. This BIERMANN, PL appears first in both\n",
    "this array and the array of vertices (this can be tested by V(astrocollab)[1]). To get the answer for\n",
    "the person with largest degree, or the central person, we can perform:"
   ]
  },
  {
   "cell_type": "code",
   "execution_count": 11,
   "metadata": {
    "collapsed": false
   },
   "outputs": [
    {
     "name": "stderr",
     "output_type": "stream",
     "text": [
      "This graph was created by an old(er) igraph version.\n",
      "  Call upgrade_graph() on it to use with the current igraph version\n",
      "  For now we convert it on the fly...\n",
      "This graph was created by an old(er) igraph version.\n",
      "  Call upgrade_graph() on it to use with the current igraph version\n",
      "  For now we convert it on the fly...\n",
      "This graph was created by an old(er) igraph version.\n",
      "  Call upgrade_graph() on it to use with the current igraph version\n",
      "  For now we convert it on the fly...\n",
      "This graph was created by an old(er) igraph version.\n",
      "  Call upgrade_graph() on it to use with the current igraph version\n",
      "  For now we convert it on the fly...\n",
      "This graph was created by an old(er) igraph version.\n",
      "  Call upgrade_graph() on it to use with the current igraph version\n",
      "  For now we convert it on the fly...\n",
      "This graph was created by an old(er) igraph version.\n",
      "  Call upgrade_graph() on it to use with the current igraph version\n",
      "  For now we convert it on the fly...\n"
     ]
    },
    {
     "data": {
      "text/html": [
       "<dl class=dl-horizontal>\n",
       "\t<dt>STANEV, TKGT</dt>\n",
       "\t\t<dd>1</dd>\n",
       "\t<dt>WANDEL, A</dt>\n",
       "\t\t<dd>4</dd>\n",
       "\t<dt>GOLDMAN, I</dt>\n",
       "\t\t<dd>5</dd>\n",
       "\t<dt>PILDIS, RA</dt>\n",
       "\t\t<dd>16</dd>\n",
       "\t<dt>BREGMAN, JN</dt>\n",
       "\t\t<dd>17</dd>\n",
       "\t<dt>BIERMANN, PL</dt>\n",
       "\t\t<dd>36</dd>\n",
       "</dl>\n"
      ],
      "text/latex": [
       "\\begin{description*}\n",
       "\\item[STANEV, TKGT] 1\n",
       "\\item[WANDEL, A] 4\n",
       "\\item[GOLDMAN, I] 5\n",
       "\\item[PILDIS, RA] 16\n",
       "\\item[BREGMAN, JN] 17\n",
       "\\item[BIERMANN, PL] 36\n",
       "\\end{description*}\n"
      ],
      "text/markdown": [
       "STANEV, TKGT\n",
       ":   1WANDEL, A\n",
       ":   4GOLDMAN, I\n",
       ":   5PILDIS, RA\n",
       ":   16BREGMAN, JN\n",
       ":   17BIERMANN, PL\n",
       ":   36\n",
       "\n"
      ],
      "text/plain": [
       "STANEV, TKGT    WANDEL, A   GOLDMAN, I   PILDIS, RA  BREGMAN, JN BIERMANN, PL \n",
       "           1            4            5           16           17           36 "
      ]
     },
     "execution_count": 11,
     "metadata": {},
     "output_type": "execute_result"
    }
   ],
   "source": [
    "sort(head(degree(astrocollab),decreasing = TRUE[1]))"
   ]
  },
  {
   "cell_type": "markdown",
   "metadata": {},
   "source": [
    "**Function 2:\n",
    "betweenness(graph,, ..)\n",
    "This function was used to compute the power-centrality of a given person. Depending upon the\n",
    "reference that is used, power-centrality is equivalent to the betweenness-centrality of a given node.**"
   ]
  },
  {
   "cell_type": "code",
   "execution_count": 18,
   "metadata": {
    "collapsed": false
   },
   "outputs": [
    {
     "data": {
      "text/html": [
       "<dl class=dl-horizontal>\n",
       "\t<dt>SCHNEIDER, DP</dt>\n",
       "\t\t<dd>6</dd>\n",
       "\t<dt>THORSETT, SE</dt>\n",
       "\t\t<dd>0</dd>\n",
       "\t<dt>YOUNG, K</dt>\n",
       "\t\t<dd>0</dd>\n",
       "\t<dt>OBSERVATORY, CS</dt>\n",
       "\t\t<dd>0</dd>\n",
       "\t<dt>EDU, RC</dt>\n",
       "\t\t<dd>0</dd>\n",
       "\t<dt>TOZZI, GBFGP</dt>\n",
       "\t\t<dd>0</dd>\n",
       "</dl>\n"
      ],
      "text/latex": [
       "\\begin{description*}\n",
       "\\item[SCHNEIDER, DP] 6\n",
       "\\item[THORSETT, SE] 0\n",
       "\\item[YOUNG, K] 0\n",
       "\\item[OBSERVATORY, CS] 0\n",
       "\\item[EDU, RC] 0\n",
       "\\item[TOZZI, GBFGP] 0\n",
       "\\end{description*}\n"
      ],
      "text/markdown": [
       "SCHNEIDER, DP\n",
       ":   6THORSETT, SE\n",
       ":   0YOUNG, K\n",
       ":   0OBSERVATORY, CS\n",
       ":   0EDU, RC\n",
       ":   0TOZZI, GBFGP\n",
       ":   0\n",
       "\n"
      ],
      "text/plain": [
       "  SCHNEIDER, DP    THORSETT, SE        YOUNG, K OBSERVATORY, CS         EDU, RC \n",
       "              6               0               0               0               0 \n",
       "   TOZZI, GBFGP \n",
       "              0 "
      ]
     },
     "execution_count": 18,
     "metadata": {},
     "output_type": "execute_result"
    }
   ],
   "source": [
    "tail(betweenness(astroNew))"
   ]
  },
  {
   "cell_type": "markdown",
   "metadata": {},
   "source": [
    "**Function 3: gorder() - This function provides the number of verticies of a graph**"
   ]
  },
  {
   "cell_type": "code",
   "execution_count": 19,
   "metadata": {
    "collapsed": false
   },
   "outputs": [
    {
     "data": {
      "text/html": [
       "50"
      ],
      "text/latex": [
       "50"
      ],
      "text/markdown": [
       "50"
      ],
      "text/plain": [
       "[1] 50"
      ]
     },
     "execution_count": 19,
     "metadata": {},
     "output_type": "execute_result"
    }
   ],
   "source": [
    "gorder(astroNew) #50"
   ]
  },
  {
   "cell_type": "markdown",
   "metadata": {},
   "source": [
    "**Function 4: cluster_infomap - Find community structure that minimizes the expected \n",
    "description length of a random walker trajectory**"
   ]
  },
  {
   "cell_type": "code",
   "execution_count": 21,
   "metadata": {
    "collapsed": false
   },
   "outputs": [
    {
     "data": {
      "text/plain": [
       "IGRAPH clustering infomap, groups: 18, mod: 0.87\n",
       "+ groups:\n",
       "  $`1`\n",
       "  [1] \"PILDIS, RA\"    \"BREGMAN, JN\"   \"EVRARD, AE\"    \"MOHR, JJ\"     \n",
       "  [5] \"GELLER, DGFMJ\"\n",
       "  \n",
       "  $`2`\n",
       "  [1] \"BRAINERD, JJ\"  \"MEEGAN, CA\"    \"BRIGGS, MS\"    \"PENDLETON, GN\"\n",
       "  [5] \"BROCK, MN\"    \n",
       "  \n",
       "  $`3`\n",
       "  [1] \"ANGELANTONJ, C\" \"AMENDOLA, L\"    \"LITTERIO, M\"    \"OCCHIONERO, F\" \n",
       "  + ... omitted several groups/vertices"
      ]
     },
     "execution_count": 21,
     "metadata": {},
     "output_type": "execute_result"
    }
   ],
   "source": [
    "cluster_infomap(astroNew)"
   ]
  },
  {
   "cell_type": "markdown",
   "metadata": {},
   "source": [
    "**Function 5: decompose() - This function creates a separate graph for each component of a graph\n",
    "see Appendix Graph 1.4**"
   ]
  },
  {
   "cell_type": "code",
   "execution_count": null,
   "metadata": {
    "collapsed": true
   },
   "outputs": [],
   "source": [
    "dg <- decompose.graph(astronew)\n",
    "plot(dg[[1]])"
   ]
  },
  {
   "cell_type": "markdown",
   "metadata": {},
   "source": [
    "**Function 6: Clusters; connected components: Calculate the maximal (weakly or strongly) connected components of a graph **"
   ]
  },
  {
   "cell_type": "code",
   "execution_count": 11,
   "metadata": {
    "collapsed": false
   },
   "outputs": [],
   "source": [
    "c1 <- clusters(astroNew)"
   ]
  },
  {
   "cell_type": "markdown",
   "metadata": {},
   "source": [
    "** Function 7: Graph Neighborhood: These functions find the vertices not farther than a given limit from another fixed vertex, these are called the neighborhood of the vertex.**"
   ]
  },
  {
   "cell_type": "code",
   "execution_count": null,
   "metadata": {
    "collapsed": true
   },
   "outputs": [],
   "source": [
    "gn <- graph.neighborhood(astroNew, order =1)"
   ]
  },
  {
   "cell_type": "code",
   "execution_count": null,
   "metadata": {
    "collapsed": true
   },
   "outputs": [],
   "source": [
    "plot(gn[[1]])"
   ]
  },
  {
   "cell_type": "markdown",
   "metadata": {},
   "source": [
    "** Function 8: The eccentricity of a vertex is its shortest path distance from the farthest other node in the graph.**"
   ]
  },
  {
   "cell_type": "code",
   "execution_count": null,
   "metadata": {
    "collapsed": true
   },
   "outputs": [],
   "source": [
    "eccentricity(astroNew, vids = V(astronew), mode = c(\"all\", \"out\", \"in\", \"total\"))"
   ]
  },
  {
   "cell_type": "markdown",
   "metadata": {},
   "source": [
    "The function above calculates the exxentricity of a vertex is its shortest path distance from the fathest other node in the graph"
   ]
  },
  {
   "cell_type": "markdown",
   "metadata": {},
   "source": [
    "** Function 9: is_directed() :Check whether a graph is directed**"
   ]
  },
  {
   "cell_type": "code",
   "execution_count": null,
   "metadata": {
    "collapsed": true
   },
   "outputs": [],
   "source": [
    "is_directed(astroNew)"
   ]
  },
  {
   "cell_type": "markdown",
   "metadata": {},
   "source": [
    "**Function 10: shortest.paths():distances calculates the length of all the shortest paths from or to the vertices in the network. shortest_paths calculates one shortest path (the path itself, and not just its length) from or to the given vertex.**"
   ]
  },
  {
   "cell_type": "code",
   "execution_count": null,
   "metadata": {
    "collapsed": true
   },
   "outputs": [],
   "source": [
    "shortest.paths(astroNew)"
   ]
  },
  {
   "cell_type": "markdown",
   "metadata": {},
   "source": [
    "** Function 11: function to find all verticies with 2 edges or less and 5 edges or more**"
   ]
  },
  {
   "cell_type": "code",
   "execution_count": null,
   "metadata": {
    "collapsed": true
   },
   "outputs": [],
   "source": [
    "# function to find all people less thn 2 edges (degrees are the number of edges from each node and find names)\n",
    "two <- function(graph){\n",
    "    degrees <- degree(astrocollab)\n",
    "    a <- degree(astrocollab) <= 2\n",
    "    names <- names(which(degrees == a))\n",
    "    return(names)\n",
    "}"
   ]
  },
  {
   "cell_type": "code",
   "execution_count": null,
   "metadata": {
    "collapsed": true
   },
   "outputs": [],
   "source": [
    "# function to find all people more than 5 edges (degrees are the number of edges from each node and find names)\n",
    "five <- function(graph){\n",
    "    degrees <- degree(astrocollab)\n",
    "    a.1 <- degree(astrocollab) >= 5\n",
    "    names.1 <- names(which(degrees == a.1))\n",
    "    return(names.1)\n",
    "}"
   ]
  },
  {
   "cell_type": "markdown",
   "metadata": {},
   "source": [
    "**Function 12: cluster_infomap - Find community structure that minimizes the expected description length of a random walker trajectory**"
   ]
  },
  {
   "cell_type": "code",
   "execution_count": 18,
   "metadata": {
    "collapsed": false
   },
   "outputs": [
    {
     "data": {
      "text/plain": [
       "IGRAPH clustering infomap, groups: 18, mod: 0.87\n",
       "+ groups:\n",
       "  $`1`\n",
       "  [1] \"PILDIS, RA\"    \"BREGMAN, JN\"   \"EVRARD, AE\"    \"MOHR, JJ\"     \n",
       "  [5] \"GELLER, DGFMJ\"\n",
       "  \n",
       "  $`2`\n",
       "  [1] \"BRAINERD, JJ\"  \"MEEGAN, CA\"    \"BRIGGS, MS\"    \"PENDLETON, GN\"\n",
       "  [5] \"BROCK, MN\"    \n",
       "  \n",
       "  $`3`\n",
       "  [1] \"ANGELANTONJ, C\" \"AMENDOLA, L\"    \"LITTERIO, M\"    \"OCCHIONERO, F\" \n",
       "  + ... omitted several groups/vertices"
      ]
     },
     "execution_count": 18,
     "metadata": {},
     "output_type": "execute_result"
    }
   ],
   "source": [
    "cluster_infomap(astroNew)"
   ]
  },
  {
   "cell_type": "markdown",
   "metadata": {},
   "source": [
    "## 5. Determine the \n",
    "(a) central person(s) in the graph \n",
    "(b) longest path \n",
    "(c) largest clique \n",
    "(d) ego\n",
    "(e) power centrality "
   ]
  },
  {
   "cell_type": "markdown",
   "metadata": {},
   "source": [
    "** a- central person: First we find the central person from sample data set astroNew is EVRARD, AE. We used the total degrees in and the total degrees out, the person with the max sum of these two is the most central person **"
   ]
  },
  {
   "cell_type": "code",
   "execution_count": 19,
   "metadata": {
    "collapsed": false
   },
   "outputs": [
    {
     "data": {
      "text/html": [
       "'EVRARD, AE'"
      ],
      "text/latex": [
       "'EVRARD, AE'"
      ],
      "text/markdown": [
       "'EVRARD, AE'"
      ],
      "text/plain": [
       "[1] \"EVRARD, AE\""
      ]
     },
     "execution_count": 19,
     "metadata": {},
     "output_type": "execute_result"
    },
    {
     "data": {
      "text/html": [
       "'EVRARD, AE'"
      ],
      "text/latex": [
       "'EVRARD, AE'"
      ],
      "text/markdown": [
       "'EVRARD, AE'"
      ],
      "text/plain": [
       "[1] \"EVRARD, AE\""
      ]
     },
     "execution_count": 19,
     "metadata": {},
     "output_type": "execute_result"
    }
   ],
   "source": [
    "a <-in.astro <- degree(astroNew, mode = c(\"in\"))\n",
    "b <-out.astro <- degree(astroNew, mode=c(\"out\"))\n",
    "c <- max(degree(astroNew, mode = c( \"out\"))+ degree(astroNew, mode = c(\"in\")))\n",
    "name_in <- names(which(max(a) == degree(astroNew)))\n",
    "name_out <- names(which(max(b) == degree(astroNew)))\n",
    "name_in\n",
    "name_out"
   ]
  },
  {
   "cell_type": "markdown",
   "metadata": {},
   "source": [
    "When run on the full data set, we found a different person:\n",
    "1. “FRONTERA, F”"
   ]
  },
  {
   "cell_type": "markdown",
   "metadata": {},
   "source": [
    "** b-longest path: The diameter of a graph is the length of the longest geodesic.**"
   ]
  },
  {
   "cell_type": "code",
   "execution_count": 23,
   "metadata": {
    "collapsed": false
   },
   "outputs": [
    {
     "data": {
      "text/html": [
       "4.068361"
      ],
      "text/latex": [
       "4.068361"
      ],
      "text/markdown": [
       "4.068361"
      ],
      "text/plain": [
       "[1] 4.068361"
      ]
     },
     "execution_count": 23,
     "metadata": {},
     "output_type": "execute_result"
    },
    {
     "data": {
      "text/plain": [
       "+ 4/50 vertices, named:\n",
       "[1] BECKER, W     TRUEMPER, J   SCHNEIDER, DP BAHCALL, JN  "
      ]
     },
     "execution_count": 23,
     "metadata": {},
     "output_type": "execute_result"
    }
   ],
   "source": [
    "#sample data set\n",
    "diameter(astroNew)\n",
    "get_diameter(astroNew)"
   ]
  },
  {
   "cell_type": "code",
   "execution_count": null,
   "metadata": {
    "collapsed": true
   },
   "outputs": [],
   "source": [
    "#entire graph\n",
    "If we run this on the entire graph, we get an answer of 17.482562"
   ]
  },
  {
   "cell_type": "markdown",
   "metadata": {},
   "source": [
    "**c-largest clique - can be calculated with largest.clique. These functions find all, the largest or all the maximal cliques in an undirected graph. The size of the largest clique can also be calculated.**"
   ]
  },
  {
   "cell_type": "code",
   "execution_count": null,
   "metadata": {
    "collapsed": true
   },
   "outputs": [],
   "source": [
    "#we first tried to use largest_cliques but it gave us NULL answers. Then we tried to use max_cliques\n",
    "max_cliques(astrocollab)\n",
    "#we were able to achieve the result below in R Studio, but not when using the R kernel in ipynb\n",
    "clique_num(astroNew)"
   ]
  },
  {
   "cell_type": "markdown",
   "metadata": {},
   "source": [
    "the result: [[21]]+ 5/50 vertices, named: [1] MEEGAN, CA    BRAINERD, JJ  BROCK, MN     PENDLETON, GN BRIGGS, MS \n",
    "\n",
    "clique_num validates what we got and tells us that the clique has 5 nodes."
   ]
  },
  {
   "cell_type": "markdown",
   "metadata": {},
   "source": [
    "**d-ego This is the functions that find the vertices not farther than a given limit from another fixed vertex, these are called the neighborhood of the vertex finding neighbors**"
   ]
  },
  {
   "cell_type": "code",
   "execution_count": null,
   "metadata": {
    "collapsed": true
   },
   "outputs": [],
   "source": [
    "ego(astroNew, 1, nodes = V(astronew), mindist = 1)\n",
    "ego(astroNew, 1, nodes = V(astronew), mindist = 0)"
   ]
  },
  {
   "cell_type": "markdown",
   "metadata": {},
   "source": [
    "** e- power centrality: power_centrality takes a graph (dat) and returns the Boncich power centralities of positions (selected by nodes). The decay rate for power contributions is specified by exponent (1 by default). use bonpow() **"
   ]
  },
  {
   "cell_type": "code",
   "execution_count": null,
   "metadata": {
    "collapsed": true
   },
   "outputs": [],
   "source": [
    "power_centrality(astronew, nodes = V(astronew), loops = FALSE, exponent = 0, rescale = TRUE, tol = 0, sparse = TRUE)\n",
    "\n",
    "max(power_centrality(astronew, nodes = V(astronew), loops = FALSE, exponent = 0, rescale = TRUE, tol = 0, sparse = TRUE))\n",
    "\n",
    "maxpower <- (max(power_centrality(astronew, nodes = V(astronew), loops = FALSE, exponent = 0, rescale = TRUE, tol = 0, sparse = TRUE)))\n",
    "\n",
    "names(which(max(maxpower)==power_centrality(astronew, nodes = V(astronew), loops = FALSE, exponent = 0, rescale = TRUE, tol = 0, sparse = TRUE)))"
   ]
  },
  {
   "cell_type": "markdown",
   "metadata": {},
   "source": [
    "** EVRARD, A - with a power centrality of .0545. Please see Appendix Graph 1.5**"
   ]
  }
 ],
 "metadata": {
  "kernelspec": {
   "display_name": "R",
   "language": "R",
   "name": "ir"
  },
  "language_info": {
   "codemirror_mode": "r",
   "file_extension": ".r",
   "mimetype": "text/x-r-source",
   "name": "R",
   "pygments_lexer": "r",
   "version": "3.2.3"
  }
 },
 "nbformat": 4,
 "nbformat_minor": 0
}
